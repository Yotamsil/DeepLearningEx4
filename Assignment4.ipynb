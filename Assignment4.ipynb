{
  "nbformat": 4,
  "nbformat_minor": 0,
  "metadata": {
    "colab": {
      "name": "Assignment4.ipynb",
      "provenance": [],
      "collapsed_sections": []
    },
    "language_info": {
      "name": "python"
    },
    "kernelspec": {
      "name": "python3",
      "display_name": "Python 3"
    }
  },
  "cells": [
    {
      "cell_type": "markdown",
      "metadata": {
        "id": "MV-Baq834KT6"
      },
      "source": [
        "# Assignment 4: Language Processing with RNN-Based Autoencoders\n",
        "\n",
        "**Deadline**: Sunday, June 15th, by 9pm.\n",
        "\n",
        "\n",
        "**Submission**: Submit a PDF export of the completed notebook as well as the ipynb file. \n",
        "\n",
        "In this assignement, we will practice the application of deep learning to natural language processing.\n",
        "We will be working with a subset of Reuters news headlines that are collected over 15 months,\n",
        "covering all of 2019, plus a few months in 2018 and in a few months of this year.\n",
        "\n",
        "In particular, we will be building an **autoencoder** of news headlines. The idea is similar\n",
        "to the kind of image autoencoder we built in lecture: we will have an **encoder** that\n",
        "maps a news headline to a vector embedding, and then a **decoder** that reconstructs\n",
        "the news headline. Both our encoder and decoder networks will be Recurrent Neural Networks,\n",
        "so that you have a chance to practice building\n",
        "\n",
        "- a neural network that takes a sequence as an input\n",
        "- a neural network that generates a sequence as an output\n",
        "\n",
        "This assignment is organized as follows:\n",
        "\n",
        "- Question 1. Exploring the data\n",
        "- Question 2. Building the autoencoder\n",
        "- Question 3. Training the autoencoder using *data augmentation*\n",
        "- Question 4. Analyzing the embeddings (interpolating between headlines)\n",
        "\n",
        "Furthermore, we'll be introducing the idea of **data augmentation** for improving of\n",
        "the robustness of the autoencoder, as proposed by Shen et al [1] in ICML 2020.\n",
        "\n",
        "[1] Shen, Tianxiao, Jonas Mueller, Regina Barzilay, and Tommi Jaakkola. \"Educating text autoencoders: Latent representation guidance via denoising.\" In International Conference on Machine Learning, pp. 8719-8729. PMLR, 2020."
      ]
    },
    {
      "cell_type": "code",
      "metadata": {
        "id": "_CobqQza4KUC"
      },
      "source": [
        "import torch\n",
        "import torch.nn as nn\n",
        "import torch.nn.functional as F\n",
        "import torch.optim as optim\n",
        "\n",
        "import matplotlib.pyplot as plt\n",
        "import numpy as np\n",
        "import random\n",
        "\n",
        "import collections"
      ],
      "execution_count": 82,
      "outputs": []
    },
    {
      "cell_type": "markdown",
      "metadata": {
        "id": "cSz5FCNh4KUD"
      },
      "source": [
        "## Question 1. Data (20 %)\n",
        "\n",
        "Download the files `reuters_train.txt` and `reuters_valid.txt`, and upload them to Google Drive.\n",
        "\n",
        "Then, mount Google Drive from your Google Colab notebook:"
      ]
    },
    {
      "cell_type": "code",
      "metadata": {
        "colab": {
          "base_uri": "https://localhost:8080/"
        },
        "id": "fnABNyg94KUE",
        "outputId": "74e3dd4b-02ff-45e5-8b60-8e2773cf8cd3"
      },
      "source": [
        "from google.colab import drive\n",
        "drive.mount('/content/gdrive')\n",
        "\n",
        "train_path = '/content/gdrive/My Drive/Intro_to_Deep_Learning/Assignment4/reuters_train.txt' # Update me\n",
        "valid_path = '/content/gdrive/My Drive/Intro_to_Deep_Learning/Assignment4/reuters_valid.txt' # Update me"
      ],
      "execution_count": 83,
      "outputs": [
        {
          "output_type": "stream",
          "name": "stdout",
          "text": [
            "Drive already mounted at /content/gdrive; to attempt to forcibly remount, call drive.mount(\"/content/gdrive\", force_remount=True).\n"
          ]
        }
      ]
    },
    {
      "cell_type": "markdown",
      "metadata": {
        "id": "hdkp4HLW4KUE"
      },
      "source": [
        "As we did in some of our examples (e.g., training transformers on IMDB reviews) will be using PyTorch's `torchtext` utilities to help us load, process,\n",
        "and batch the data. We'll be using a `TabularDataset` to load our data, which works well on structured\n",
        "CSV data with fixed columns (e.g. a column for the sequence, a column for the label). Our tabular dataset\n",
        "is even simpler: we have no labels, just some text. So, we are treating our data as a table with one field\n",
        "representing our sequence."
      ]
    },
    {
      "cell_type": "code",
      "metadata": {
        "id": "I2PjMSho4KUF"
      },
      "source": [
        "import torchtext.legacy.data as data\n",
        "\n",
        "# Tokenization function to separate a headline into words\n",
        "def tokenize_headline(headline):\n",
        "    \"\"\"Returns the sequence of words in the string headline. We also\n",
        "    prepend the \"<bos>\" or beginning-of-string token, and append the\n",
        "    \"<eos>\" or end-of-string token to the headline.\n",
        "    \"\"\"\n",
        "    return (\"<bos> \" + headline + \" <eos>\").split()\n",
        "\n",
        "# Data field (column) representing our *text*.\n",
        "text_field = data.Field(\n",
        "    sequential=True,            # this field consists of a sequence\n",
        "    tokenize=tokenize_headline, # how to split sequences into words\n",
        "    include_lengths=True,       # to track the length of sequences, for batching\n",
        "    batch_first=True,           # similar to batch_first=True used in nn.RNN demonstrated in lecture\n",
        "    use_vocab=True)             # to turn each character into an integer index\n",
        "train_data = data.TabularDataset(\n",
        "    path=train_path,                # data file path\n",
        "    format=\"tsv\",                   # fields are separated by a tab\n",
        "    fields=[('title', text_field)]) # list of fields (we have only one)"
      ],
      "execution_count": 84,
      "outputs": []
    },
    {
      "cell_type": "markdown",
      "metadata": {
        "id": "7TNlqCRM4KUF"
      },
      "source": [
        "### Part (a) -- 5%\n",
        "\n",
        "Draw histograms of the number of words per headline in our training set.\n",
        "Excluding the `<bos>` and `<eos>` tags in your computation.\n",
        "Explain why we would be interested in such histograms."
      ]
    },
    {
      "cell_type": "code",
      "metadata": {
        "id": "mBPd0ezl4KUG",
        "colab": {
          "base_uri": "https://localhost:8080/",
          "height": 491
        },
        "outputId": "e63ee1dd-8889-4b17-caa5-694fd5f8520e"
      },
      "source": [
        "# Include your histogram and your written explanations\n",
        "num_of_words = []\n",
        "for sentence in train_data:   \n",
        "   num_of_words.append(len(sentence.title)-2)\n",
        "plt.hist(num_of_words, bins=max(num_of_words))   \n",
        "\n",
        "# Here is an example of how to plot a histogram in matplotlib:\n",
        "# plt.hist(np.random.normal(0, 1, 40), bins=20)\n",
        "\n",
        "# Here are some sample code that uses the train_data object:\n",
        "# print(train_data[5].title)\n",
        "# for example in train_data:\n",
        "#     print(example.title)\n",
        "#     break"
      ],
      "execution_count": 85,
      "outputs": [
        {
          "output_type": "execute_result",
          "data": {
            "text/plain": [
              "(array([2.3000e+01, 8.9000e+01, 2.9700e+02, 7.4000e+02, 2.1910e+03,\n",
              "        6.1630e+03, 1.2529e+04, 2.0805e+04, 2.7921e+04, 2.9969e+04,\n",
              "        2.6251e+04, 1.9511e+04, 1.2307e+04, 6.8520e+03, 0.0000e+00,\n",
              "        3.3640e+03, 1.4980e+03, 6.0000e+02, 2.2700e+02, 7.7000e+01,\n",
              "        1.4000e+01, 6.0000e+00, 3.0000e+00, 4.0000e+00, 1.0000e+00,\n",
              "        0.0000e+00, 0.0000e+00, 0.0000e+00, 1.0000e+00]),\n",
              " array([ 2.        ,  2.93103448,  3.86206897,  4.79310345,  5.72413793,\n",
              "         6.65517241,  7.5862069 ,  8.51724138,  9.44827586, 10.37931034,\n",
              "        11.31034483, 12.24137931, 13.17241379, 14.10344828, 15.03448276,\n",
              "        15.96551724, 16.89655172, 17.82758621, 18.75862069, 19.68965517,\n",
              "        20.62068966, 21.55172414, 22.48275862, 23.4137931 , 24.34482759,\n",
              "        25.27586207, 26.20689655, 27.13793103, 28.06896552, 29.        ]),\n",
              " <a list of 29 Patch objects>)"
            ]
          },
          "metadata": {},
          "execution_count": 85
        },
        {
          "output_type": "display_data",
          "data": {
            "image/png": "[encoded data removed]",
            "text/plain": [
              "<Figure size 432x288 with 1 Axes>"
            ]
          },
          "metadata": {
            "needs_background": "light"
          }
        }
      ]
    },
    {
      "cell_type": "markdown",
      "metadata": {
        "id": "CWnes5SVRwxl"
      },
      "source": [
        "**Write your explanation here:**\n",
        "\n",
        "We would be interested in this kind of histogram in order to see if the data distribution is like gaussian and justifies this assumption in Variational Autoencoders."
      ]
    },
    {
      "cell_type": "markdown",
      "metadata": {
        "id": "gm3ysTzh4KUG"
      },
      "source": [
        "### Part (b) -- 5%\n",
        "\n",
        "How many distinct words appear in the training data?\n",
        "Exclude the `<bos>` and `<eos>` tags in your computation."
      ]
    },
    {
      "cell_type": "code",
      "metadata": {
        "id": "2x5wf7h14KUG",
        "colab": {
          "base_uri": "https://localhost:8080/"
        },
        "outputId": "64608ae1-20b7-4bb0-a441-c48ccc05cbbb"
      },
      "source": [
        "from six import print_\n",
        "# Report your values here. Make sure that you report the actual values,\n",
        "# and not just the code used to get those values\n",
        "\n",
        "# You might find the python class Counter from the collections package useful\n",
        "cnt = collections.Counter()\n",
        "for sentence in train_data:\n",
        "    if type(sentence.title) == list: \n",
        "      cnt.update([word for word in sentence.title[2:-1]]) \n",
        "print(f\"number of distinct words: {len(cnt.keys())}\")  \n",
        "\n",
        "print(cnt[\"<bos>\"])      # sanity check, needs to be zero"
      ],
      "execution_count": 86,
      "outputs": [
        {
          "output_type": "stream",
          "name": "stdout",
          "text": [
            "number of distinct words: 46289\n",
            "0\n"
          ]
        }
      ]
    },
    {
      "cell_type": "markdown",
      "metadata": {
        "id": "e5lgEwiM4KUH"
      },
      "source": [
        "### Part (c) -- 5%\n",
        "\n",
        "The distribution of *words* will have a long tail, meaning that there are some words\n",
        "that will appear very often, and many words that will appear infrequently. How many words\n",
        "appear exactly once in the training set? Exactly twice?\n",
        "Print these numbers below"
      ]
    },
    {
      "cell_type": "code",
      "metadata": {
        "id": "RpkUDVoC4KUH",
        "colab": {
          "base_uri": "https://localhost:8080/"
        },
        "outputId": "8079fe65-5354-4df3-d58e-be6d2bf73dd2"
      },
      "source": [
        "# Report your values here. Make sure that you report the actual values,\n",
        "# and not just the code used to get those values\n",
        "\n",
        "def appearance_counter(cnt, n):  \n",
        "  number_cnt = 0\n",
        "  for value in cnt.values():\n",
        "      if value == n:\n",
        "        number_cnt += 1\n",
        "  return number_cnt  \n",
        "\n",
        "ones_cnt = appearance_counter(cnt, 1)\n",
        "twos_cnt = appearance_counter(cnt, 2)\n",
        "\n",
        "print(f\"{ones_cnt} words appear exactly once in the training set\")\n",
        "print(f\"{twos_cnt} words appear exactly twice in the training set\")"
      ],
      "execution_count": 87,
      "outputs": [
        {
          "output_type": "stream",
          "name": "stdout",
          "text": [
            "16755 words appear exactly once in the training set\n",
            "6688 words appear exactly twice in the training set\n"
          ]
        }
      ]
    },
    {
      "cell_type": "markdown",
      "metadata": {
        "id": "K3RKPwdI4KUI"
      },
      "source": [
        "### Part (d) -- 5%\n",
        "We will replace the infrequent\n",
        "words with an `<unk>` tag, instead of learning embeddings for these rare words. `torchtext` also provides us with the `<pad>` tag used for padding short sequences for batching.\n",
        "We will thus only model the top 9995 words in the training set, excluding the tags\n",
        "`<bos>`, `<eos>`, `<unk>`, and `<pad>`.\n",
        "\n",
        "What percentage of total word count(whole dataset) will be supported? Alternatively, what percentage\n",
        "of total word count(whole dataset) in the training set will be set to the `<unk>` tag?"
      ]
    },
    {
      "cell_type": "code",
      "metadata": {
        "id": "Cva5DC_64KUI",
        "colab": {
          "base_uri": "https://localhost:8080/"
        },
        "outputId": "0d129e3f-1dec-4fdf-af34-e95b8d06be9f"
      },
      "source": [
        "# Report your values here. Make sure that you report the actual values,\n",
        "# and not just the code used to get those values\n",
        "\n",
        "top_words = cnt.most_common()[1:9998]         # excluding the tags <bos>, <eos>\n",
        "counter_top = sum([word_tuple[1] for word_tuple in top_words])\n",
        "counter_total = sum(cnt.values())\n",
        "\n",
        "print(f\"{counter_top/counter_total*100}% of total word count will be supported\") \n",
        "print(f\"{(1-counter_top/counter_total)*100}% of total word count in the training set will be set to the <unk> tag\") "
      ],
      "execution_count": 88,
      "outputs": [
        {
          "output_type": "stream",
          "name": "stdout",
          "text": [
            "90.90601096187436% of total word count will be supported\n",
            "9.093989038125638% of total word count in the training set will be set to the <unk> tag\n"
          ]
        }
      ]
    },
    {
      "cell_type": "markdown",
      "metadata": {
        "id": "SBV8CTyk4KUJ"
      },
      "source": [
        "The `torchtext` package will help us keep track of our list of unique words, known\n",
        "as a **vocabulary**. A vocabulary also assigns a unique integer index to each word."
      ]
    },
    {
      "cell_type": "code",
      "metadata": {
        "colab": {
          "base_uri": "https://localhost:8080/"
        },
        "id": "GRLFF8j14KUJ",
        "outputId": "128084b0-18b5-4d2d-dd1d-af6c3adb034e"
      },
      "source": [
        "# Build the vocabulary based on the training data. The vocabulary\n",
        "# can have at most 9997 words (9995 words + the <bos> and <eos> token)\n",
        "text_field.build_vocab(train_data, max_size=9997)\n",
        "\n",
        "# This vocabulary object will be helpful for us\n",
        "vocab = text_field.vocab\n",
        "print(vocab.stoi[\"hello\"]) # for instances, we can convert from string to (unique) index\n",
        "print(vocab.itos[10])      # ... and from word index to string\n",
        "\n",
        "# The size of our vocabulary  \n",
        "vocab_size = len(text_field.vocab.stoi) \n",
        "# Here are the two tokens that torchtext adds for us:\n",
        "print(vocab.itos[0]) # <unk> represents an unknown word not in our vocabulary\n",
        "print(vocab.itos[1]) # <pad> will be used to pad short sequences for batching   "
      ],
      "execution_count": 89,
      "outputs": [
        {
          "output_type": "stream",
          "name": "stdout",
          "text": [
            "0\n",
            "on\n",
            "<unk>\n",
            "<pad>\n"
          ]
        }
      ]
    },
    {
      "cell_type": "markdown",
      "metadata": {
        "id": "bnoMpzC14KUK"
      },
      "source": [
        "## Question 2. Text Autoencoder (40%)\n",
        "\n",
        "Building a text autoencoder is a little more complicated than an image autoencoder like we did in class. So\n",
        "we will need to thoroughly understand the model that we want to build before actually building it. Note that the best and fastest way to complete this assignment is to spend time upfront understanding the architecture. The explanations are quite dense, but it is important to understand the operation of this model. The rationale here is similar in nature to the `seq2seq` RNN model we discussed in class, only we are dealing with unsupervised learning here rather than machine translation. \n",
        "\n",
        "# Architecture description\n",
        "Here is a diagram showing our desired architecture:\n",
        "\n",
        "<img src='https://drive.google.com/uc?id=1UaXAYQvmFbBcuSBQb7ozjSliuVn7bP1Q'>\n",
        "\n",
        "There are two main components to the model: the **encoder** and the **decoder**.\n",
        "As always with neural networks, we'll first describe how to make\n",
        "**predictions** with of these components. Let's get started:\n",
        "\n",
        "The **encoder** will take a sequence of words (a headline) as *input*, and produce an\n",
        "embedding (a vector) that represents the entire headline. In the diagram above,\n",
        "the vector ${\\bf h}^{(7)}$ is the vector embedding containing information about \n",
        "the entire headline.  This portion is very similar\n",
        "to the sentiment analysis RNN that we discussed in lecture (but without the fully-connected\n",
        "layer that makes a prediction).\n",
        "\n",
        "The **decoder** will take an embedding (in the diagram, the vector ${\\bf h}^{(7)}$) as input,\n",
        "and uses a separate RNN to **generate a sequence of words**. To generate a sequence of words,\n",
        "the decoder needs to do the following:\n",
        "\n",
        "\n",
        "1.   Determine the previous word that was generated. This previous word will act as ${\\bf x}^{(t)}$\n",
        "   to our RNN, and will be used to update the hidden state ${\\bf m}^{(t)}$. Since each of our\n",
        "   sequences begin with the `<bos>` token, we'll set ${\\bf x}^{(1)}$ to be the `<bos>` token.\n",
        "2.   Compute the updates to the hidden state ${\\bf m}^{(t)}$ based on the previous hidden state\n",
        "   ${\\bf m}^{(t-1)}$ and ${\\bf x}^{(t)}$. Intuitively, this hidden state vector ${\\bf m}^{(t)}$\n",
        "   is a representation of *all the words we still need to generate*.\n",
        "3. We'll use a fully-connected layer to take a hidden state ${\\bf m}^{(t)}$, and determine\n",
        "   *what the next word should be*. This fully-connected layer solves a *classification problem*,\n",
        "   since we are trying to choose a word out of $K=$ `vocab_size` distinct words. As in a classification\n",
        "   problem, the fully-connected neural network will compute a *probability distribution* over\n",
        "   these `vocab_size` words. In the diagram, we are using ${\\bf z}^{(t)}$ to represent the logits,\n",
        "   or the pre-softmax activation values representing the probability distribution.\n",
        "4. We will need to *sample* an actual word from this probability distribution ${\\bf z}^{(t)}$.\n",
        "   We can do this in a number of ways, which we'll discuss in question 3. For now, you can \n",
        "   imagine your favourite way of picking a word given a distribution over words.\n",
        "5. This word we choose will become the next input ${\\bf x}^{(t+1)}$ to our RNN, which is used\n",
        "   to update our hidden state ${\\bf m}^{(t+1)}$, i.e., to determine what are the remaining\n",
        "   words to be generated.\n",
        "\n",
        "We can repeat this process until we see an `<eos>` token generated, or until the generated\n",
        "sequence becomes too long.\n",
        "\n",
        "# Training the architecture\n",
        "While our autoencoder produces a sequence, computing the loss by comparing the complete generated sequence to the ground truth (the encoder input) gives rise to multiple challanges. One is that the generated\n",
        "sequence might be longer or shorter than the actual sequence, meaning that there may\n",
        "be more/fewer ${\\bf z}^{(t)}$s than ground-truth words. Another more insidious issue\n",
        "is that the **gradients will become very high-variance and unstable**, because\n",
        "**early mistakes will easily throw the model off-track**. Early in training,\n",
        "our model is unlikely to produce the right answer in step $t=1$, so the gradients\n",
        "we obtain based on the other time steps will not be very useful.\n",
        "\n",
        "At this point, you might have some ideas about \"hacks\" we can use to make training\n",
        "work. Fortunately, there is one very well-established solution called\n",
        "**teacher forcing** which we can use for training:\n",
        "instead of *sampling* the next word based on ${\\bf z}^{(t)}$, we will forget sampling,\n",
        "and use the **ground truth** ${\\bf x}^{(t)}$ as the input in the next step.\n",
        "\n",
        "Here is a diagram showing how we can use **teacher forcing** to train our model:\n",
        " \n",
        "<img src='https://drive.google.com/uc?id=1NXlimWaCviDfP8DHlIzyQR1Ie7sxfPuY'>\n",
        "\n",
        "We will use the RNN generator to compute the logits\n",
        "${\\bf z}^{(1)},{\\bf z}^{(2)},  \\cdots {\\bf z}^{(T)}$. These distributions\n",
        "can be compared to the ground-truth words using the cross-entropy loss.\n",
        "The loss function for this model will be the sum of the losses across each $t \\in \\{1,\\ldots,T\\}$.\n",
        "\n",
        "We'll train the encoder and decoder model simultaneously. There are several components\n",
        "to our model that contain tunable weights:\n",
        "\n",
        "- The word embedding that maps a word to a vector representation.\n",
        "  In theory, we could use GloVe embeddings, as we did in class. In this assignment we will not do that, but learn the word embedding from data.\n",
        "  The word embedding component is represented with blue arrows in the diagram.\n",
        "- The encoder RNN (which will use GRUs) that computes the\n",
        "  embedding over the entire headline. The encoder RNN \n",
        "  is represented with black arrows in the diagram.\n",
        "- The decoder RNN (which will also use GRUs) that computes\n",
        "  hidden states, which are vectors representing what words are to be generated.\n",
        "  The decoder RNN is represented with gray arrows in the diagram.\n",
        "- The **projection MLP** (a fully-connected layer) that computes\n",
        "  a distribution over the next word to generate, given a decoder RNN hidden\n",
        "  state. The projection is represented with green arrows \n"
      ]
    },
    {
      "cell_type": "markdown",
      "metadata": {
        "id": "Dk9WDEC90ScA"
      },
      "source": [
        "\n",
        "## Part (a) -- 20%\n",
        "\n",
        "Complete the code for the AutoEncoder class below by:\n",
        "\n",
        "1. Filling in the missing numbers in the `__init__` method using\n",
        "   the parameters `vocab_size`, `emb_size`, and `hidden_size`.  \n",
        "2. Complete the `forward` method, which uses teacher forcing\n",
        "   and computes the logits ${\\bf z}^{(t)}$ of the reconstruction of\n",
        "   the sequence. \n",
        "\n",
        "You should first try to understand the `encode` and `decode` methods,\n",
        "which are written for you. The `encode` method bears much similarity to the\n",
        "RNN we wrote in class for sentiment analysis.  The `decode` method is\n",
        "a bit more challenging. You might want to scroll down to the\n",
        "`sample_sequence` function to see how this function will be called.\n",
        "\n",
        "You can (but don't have to) use the `encode` and `decode` method in\n",
        "your `forward` method. In either case, be careful of the input\n",
        "that you feed into ether `decode` or to `self.decoder_rnn`.\n",
        "Refer to the teacher-forcing diagram.\n",
        "**bold text** Notice that batch_first is set to True, understand how deal with it."
      ]
    },
    {
      "cell_type": "code",
      "metadata": {
        "id": "ey4tslhD4KUO"
      },
      "source": [
        "class AutoEncoder(nn.Module):\n",
        "    def __init__(self, vocab_size, emb_size, hidden_size):\n",
        "        \"\"\"\n",
        "        A text autoencoder. The parameters \n",
        "            - vocab_size: number of unique words/tokens in the vocabulary\n",
        "            - emb_size: size of the word embeddings $x^{(t)}$\n",
        "            - hidden_size: size of the hidden states in both the\n",
        "                           encoder RNN ($h^{(t)}$) and the\n",
        "                           decoder RNN ($m^{(t)}$)\n",
        "        \"\"\"\n",
        "        super().__init__()\n",
        "        self.embed = nn.Embedding(num_embeddings=vocab_size, # TODO\n",
        "                                  embedding_dim=emb_size)  # TODO\n",
        "        self.encoder_rnn = nn.GRU(input_size=emb_size, #TODO\n",
        "                                  hidden_size=hidden_size, #TODO\n",
        "                                  batch_first=True)\n",
        "        self.decoder_rnn = nn.GRU(input_size=emb_size, #TODO\n",
        "                                  hidden_size=hidden_size, #TODO\n",
        "                                  batch_first=True)\n",
        "        self.proj = nn.Linear(in_features=emb_size, # TODO\n",
        "                              out_features=vocab_size) # TODO\n",
        "\n",
        "    def encode(self, inp):\n",
        "        \"\"\"\n",
        "        Computes the encoder output given a sequence of words.\n",
        "        \"\"\"\n",
        "        emb = self.embed(inp)\n",
        "        out, last_hidden = self.encoder_rnn(emb)\n",
        "        return last_hidden\n",
        "\n",
        "    def decode(self, inp, hidden=None):\n",
        "        \"\"\"\n",
        "        Computes the decoder output given a sequence of words, and\n",
        "        (optionally) an initial hidden state.\n",
        "        \"\"\"\n",
        "        emb = self.embed(inp)\n",
        "        out, last_hidden = self.decoder_rnn(emb, hidden)\n",
        "        out_seq = self.proj(out)\n",
        "        return out_seq, last_hidden\n",
        "\n",
        "    def forward(self, inp):\n",
        "        \"\"\"\n",
        "        Compute both the encoder and decoder forward pass\n",
        "        given an integer input sequence inp with shape [batch_size, seq_length],\n",
        "        with inp[a,b] representing the (index in our vocabulary of) the b-th word\n",
        "        of the a-th training example.\n",
        "\n",
        "        This function should return the logits $z^{(t)}$ in a tensor of shape\n",
        "        [batch_size, seq_length - 1, vocab_size], computed using *teaching forcing*.\n",
        "\n",
        "        The (seq_length - 1) part is not a typo. If you don't understand why\n",
        "        we need to subtract 1, refer to the teacher-forcing diagram above.\n",
        "        \"\"\"\n",
        "\n",
        "        x = self.encode(inp)\n",
        "        [x, last_hidden] = self.decode(inp[:,:-1], hidden=x)\n",
        "        return x"
      ],
      "execution_count": 124,
      "outputs": []
    },
    {
      "cell_type": "markdown",
      "metadata": {
        "id": "_uwpjvIw4KUQ"
      },
      "source": [
        "### Part (b) -- 10%\n",
        "\n",
        "To check that your model is set up correctly, we'll train our autoencoder\n",
        "neural network for at least 300 iterations to memorize this sequence:"
      ]
    },
    {
      "cell_type": "code",
      "metadata": {
        "id": "sJmPNMnY4KUQ"
      },
      "source": [
        "headline = train_data[42].title\n",
        "input_seq = torch.Tensor([vocab.stoi[w] for w in headline]).long().unsqueeze(0)"
      ],
      "execution_count": 91,
      "outputs": []
    },
    {
      "cell_type": "markdown",
      "metadata": {
        "id": "Qj55uU-C4KUQ"
      },
      "source": [
        "We are looking for the way that you set up your loss function\n",
        "corresponding to the figure above.\n",
        "Be  careful of off-by-one errors here.\n",
        "\n",
        "\n",
        "Note that the Cross Entropy Loss expects a rank-2 tensor as its first\n",
        "argument (the output of the network), and a rank-1 tensor as its second argument (the true label). You will\n",
        "need to properly reshape your data to be able to compute the loss."
      ]
    },
    {
      "cell_type": "code",
      "metadata": {
        "id": "aScYWbBx4KUQ",
        "colab": {
          "base_uri": "https://localhost:8080/"
        },
        "outputId": "c2782188-0af0-4484-ee69-d2ab4a1276a3"
      },
      "source": [
        "model = AutoEncoder(vocab_size, 128, 128)\n",
        "optimizer = optim.Adam(model.parameters(), lr=0.001)\n",
        "criterion = nn.CrossEntropyLoss()\n",
        "for it in range(300):\n",
        "    optimizer.zero_grad()\n",
        "    pred = model(input_seq)\n",
        "    loss_list = []\n",
        "    for word_idx in range(1,pred.shape[1]):\n",
        "        loss_list.append(criterion(pred[:,word_idx,:], input_seq[:,word_idx+1]))\n",
        "\n",
        "    loss = sum(loss_list)\n",
        "    loss.backward()\n",
        "    optimizer.step()\n",
        "\n",
        "    if (it+1) % 50 == 0:\n",
        "        print(\"[Iter %d] Loss %f\" % (it+1, float(loss)))"
      ],
      "execution_count": 127,
      "outputs": [
        {
          "output_type": "stream",
          "name": "stdout",
          "text": [
            "[Iter 50] Loss 0.660786\n",
            "[Iter 100] Loss 0.190503\n",
            "[Iter 150] Loss 0.121083\n",
            "[Iter 200] Loss 0.085295\n",
            "[Iter 250] Loss 0.063910\n",
            "[Iter 300] Loss 0.049976\n"
          ]
        }
      ]
    },
    {
      "cell_type": "markdown",
      "metadata": {
        "id": "SWKYC3z34KUR"
      },
      "source": [
        "### Part (c) -- 4%\n",
        "\n",
        "Once you are satisfied with your model, encode your input using\n",
        "the RNN encoder, and sample some sequences from the decoder. The \n",
        "sampling code is provided to you, and performs the computation\n",
        "from the first diagram (without teacher forcing).\n",
        "\n",
        "Note that we are sampling from a multi-nomial distribution described\n",
        "by the logits $z^{(t)}$. For example, if our distribution is [80%, 20%]\n",
        "over a vocabulary of two words, then we will choose the first word\n",
        "with 80% probability and the second word with 20% probability.\n",
        "\n",
        "Call `sample_sequence` at least 5 times, with the default temperature\n",
        "value. Make sure to include the generated sequences in your PDF\n",
        "report."
      ]
    },
    {
      "cell_type": "code",
      "metadata": {
        "id": "6vjVvmn14KUR",
        "colab": {
          "base_uri": "https://localhost:8080/"
        },
        "outputId": "a1ad4180-c2d3-46eb-927c-32f891dbad0e"
      },
      "source": [
        "def sample_sequence(model, hidden, max_len=20, temperature=1):\n",
        "    \"\"\"\n",
        "    Return a sequence generated from the model's decoder\n",
        "        - model: an instance of the AutoEncoder model\n",
        "        - hidden: a hidden state (e.g. computed by the encoder)\n",
        "        - max_len: the maximum length of the generated sequence\n",
        "        - temperature: described in Part (d)\n",
        "    \"\"\"\n",
        "    # We'll store our generated sequence here\n",
        "    generated_sequence = []\n",
        "    # Set input to the <BOS> token\n",
        "    inp = torch.Tensor([text_field.vocab.stoi[\"<bos>\"]]).long()\n",
        "    for p in range(max_len):\n",
        "        # compute the output and next hidden unit\n",
        "        output, hidden = model.decode(inp.unsqueeze(0), hidden)\n",
        "        # Sample from the network as a multinomial distribution\n",
        "        output_dist = output.data.view(-1).div(temperature).exp()\n",
        "        top_i = int(torch.multinomial(output_dist, 1)[0])\n",
        "        # Add predicted word to string and use as next input\n",
        "        word = text_field.vocab.itos[top_i]\n",
        "        # Break early if we reach <eos>\n",
        "        if word == \"<eos>\":\n",
        "            break\n",
        "        generated_sequence.append(word)\n",
        "        inp = torch.Tensor([top_i]).long()\n",
        "    return generated_sequence\n",
        "\n",
        "# Your solutions go here\n",
        "for i in range(1,10):\n",
        "    output = sample_sequence(model, model.encode(input_seq), max_len=20, temperature=1)\n",
        "    print(' '.join(output))"
      ],
      "execution_count": 144,
      "outputs": [
        {
          "output_type": "stream",
          "name": "stdout",
          "text": [
            "president swears in new army chief\n",
            "president swears in new army chief\n",
            "president swears in new army chief\n",
            "president swears in new army chief\n",
            "president swears in new army chief\n",
            "president swears in insists army chief\n",
            "president swears in new army chief\n",
            "president swears in new army chief\n",
            "president swears in new army chief\n"
          ]
        }
      ]
    },
    {
      "cell_type": "markdown",
      "metadata": {
        "id": "0T7gcPnn4KUR"
      },
      "source": [
        "### Part (d) -- 6%\n",
        "\n",
        "The multi-nomial distribution can be manipulated using the `temperature`\n",
        "setting. This setting can be used to make the distribution \"flatter\" (e.g.\n",
        "more likely to generate different words) or \"peakier\" (e.g. less likely\n",
        "to generate different words).\n",
        "\n",
        "Call `sample_sequence` at least 5 times each for at least 3 different\n",
        "temperature settings (e.g. 1.5, 2, and 5). Explain why we generally\n",
        "don't want the temperature setting to be too **large**."
      ]
    },
    {
      "cell_type": "code",
      "metadata": {
        "id": "jA_S0cmE4KUR",
        "colab": {
          "base_uri": "https://localhost:8080/"
        },
        "outputId": "861ff003-befb-40da-e01f-c5c731d505b0"
      },
      "source": [
        "temperatures_list = [1.5,2,5]\n",
        "for temperature in temperatures_list:\n",
        "    print(f\"Temperature:{temperature}\")\n",
        "    for i in range(1,6):\n",
        "        output = sample_sequence(model, model.encode(input_seq), 10, temperature)\n",
        "        print(' '.join(output))"
      ],
      "execution_count": 145,
      "outputs": [
        {
          "output_type": "stream",
          "name": "stdout",
          "text": [
            "Temperature:1.5\n",
            "string missiles x feature president swears in new apple amp\n",
            "decisions implants meant nervous army rains _num_-german ; ocasio-cortez transneft\n",
            "mounts exchanges delaware employees unchanged army\n",
            "president flat limits hampshire chief\n",
            "debt-c in new army chief unlock luxury joker strip garner\n",
            "Temperature:2\n",
            "lessors crash coordinate killed patrols trapped trees hovers bofa suspension\n",
            "_num_-nissan rbi ivorian collection _num_-equinor -traders swears donates carmaker tourists\n",
            "program jr. considers idai acquits only incentives motegi tick frenchman\n",
            "instructure pm-designate picket soldier fordow through stopped designer demonstrators warnermedia\n",
            "barriers bold nats holiday arrival army notebook end-2020 undermine mid-atlantic\n",
            "Temperature:5\n",
            "looking standoff cocoa arun move half census centers started consolidation\n",
            "minors size sinks surplus live hawk bottleneck iaaf demonstrate landslides\n",
            "pressures new brewer powell baker spacex husband gmt monsoon restrict\n",
            "corruption heavyweight neighbors background howard temper incentive tunisian palin shutting\n",
            "look heighten paralysis sexually muslim ryder spacecraft cave economics premium\n"
          ]
        }
      ]
    },
    {
      "cell_type": "markdown",
      "source": [
        "We don't want the temperature setting to be too large because "
      ],
      "metadata": {
        "id": "OiKqKsTITFDB"
      }
    },
    {
      "cell_type": "markdown",
      "metadata": {
        "id": "ZK4ptUb54KUS"
      },
      "source": [
        "## Question 3. Data augmentation (20%)\n",
        "\n",
        "It turns out that getting good results from a text auto-encoder is very difficult,\n",
        "and that it is very easy for our model to **overfit**. We have discussed several methods\n",
        "that we can use to prevent overfitting, and we'll introduce one more today:\n",
        "**data augmentation**.\n",
        "\n",
        "The idea behind data augmentation is to artificially increase the number of training\n",
        "examples by \"adding noise\" to the image. For example, during AlexNet training,\n",
        "the authors randomly cropped $224\\times 224$\n",
        "regions of a $256 \\times 256$ pixel image to increase the amount of training data.\n",
        "The authors also flipped the image left/right.\n",
        "Machine learning practitioners can also add Gaussian noise to the image.\n",
        "\n",
        "When we use data augmentation to train an *autoencoder*, we typically to only add\n",
        "the noise to the input, and expect the reconstruction to be *noise free*.\n",
        "This makes the task of the autoencoder even more difficult. An autoencoder trained\n",
        "with noisy inputs is called a **denoising auto-encoder**. For simplicity, we will\n",
        "*not* build a denoising autoencoder today.\n",
        "\n"
      ]
    },
    {
      "cell_type": "markdown",
      "metadata": {
        "id": "yieWyWqS4KUS"
      },
      "source": [
        "### Part (a) -- 5%\n",
        "\n",
        "We will add noise to our headlines using a few different techniques:\n",
        "\n",
        "1. Shuffle the words in the headline, taking care that words don't end up too far from where they were initially\n",
        "2. Drop (remove) some words \n",
        "3. Replace some words with a blank word (a `<pad>` token)\n",
        "4. Replace some words with a random word \n",
        "\n",
        "The code for adding these types of noise is provided for you:"
      ]
    },
    {
      "cell_type": "code",
      "metadata": {
        "id": "IGb3uL5U4KUS"
      },
      "source": [
        "def tokenize_and_randomize(headline,\n",
        "                           drop_prob=0.1,  # probability of dropping a word\n",
        "                           blank_prob=0.1, # probability of \"blanking\" out a word\n",
        "                           sub_prob=0.1,   # probability of substituting a word with a random one\n",
        "                           shuffle_dist=3): # maximum distance to shuffle a word\n",
        "    \"\"\"\n",
        "    Add 'noise' to a headline by slightly shuffling the word order,\n",
        "    dropping some words, blanking out some words (replacing with the <pad> token)\n",
        "    and substituting some words with random ones.\n",
        "    \"\"\"\n",
        "    headline = [vocab.stoi[w] for w in headline.split()]\n",
        "    n = len(headline)\n",
        "    # shuffle\n",
        "    headline = [headline[i] for i in get_shuffle_index(n, shuffle_dist)]\n",
        "\n",
        "    new_headline = [vocab.stoi['<bos>']]\n",
        "    for w in headline:\n",
        "        if random.random() < drop_prob:\n",
        "            # drop the word\n",
        "            pass\n",
        "        elif random.random() < blank_prob:\n",
        "            # replace with blank word\n",
        "            new_headline.append(vocab.stoi[\"<pad>\"])\n",
        "        elif random.random() < sub_prob:\n",
        "            # substitute word with another word\n",
        "            new_headline.append(random.randint(0, vocab_size - 1))\n",
        "        else:\n",
        "            # keep the original word\n",
        "            new_headline.append(w)\n",
        "    new_headline.append(vocab.stoi['<eos>'])\n",
        "    return new_headline\n",
        "\n",
        "def get_shuffle_index(n, max_shuffle_distance):\n",
        "    \"\"\" This is a helper function used to shuffle a headline with n words,\n",
        "    where each word is moved at most max_shuffle_distance. The function does\n",
        "    the following: \n",
        "       1. start with the *unshuffled* index of each word, which\n",
        "          is just the values [0, 1, 2, ..., n]\n",
        "       2. perturb these \"index\" values by a random floating-point value between\n",
        "          [0, max_shuffle_distance]\n",
        "       3. use the sorted position of these values as our new index\n",
        "    \"\"\"\n",
        "    index = np.arange(n)\n",
        "    perturbed_index = index + np.random.rand(n) * 3\n",
        "    new_index = sorted(enumerate(perturbed_index), key=lambda x: x[1])\n",
        "    return [index for (index, pert) in new_index]"
      ],
      "execution_count": 146,
      "outputs": []
    },
    {
      "cell_type": "markdown",
      "metadata": {
        "id": "h8t6eZgy4KUT"
      },
      "source": [
        "Call the function `tokenize_and_randomize` 5 times on a headline of your\n",
        "choice. Make sure to include both your original headline, and the five new\n",
        "headlines in your report."
      ]
    },
    {
      "cell_type": "code",
      "metadata": {
        "id": "CktsYMIE4KUT",
        "colab": {
          "base_uri": "https://localhost:8080/"
        },
        "outputId": "df1ff9ca-deb0-4b84-9988-6b62143c01df"
      },
      "source": [
        "# Report your values here. Make sure that you report the actual values,\n",
        "# and not just the code used to get those values\n",
        "headline = ' '.join(train_data[74].title)\n",
        "print(f\"Original headline: {headline}\")\n",
        "for i in range(1,6):\n",
        "    new_headline = tokenize_and_randomize(headline[1:-1],drop_prob=i*0.05,blank_prob=i*0.05,sub_prob=i*0.05,shuffle_dist=i//2)\n",
        "    new_headline = [vocab.itos[w] for w in new_headline]\n",
        "\n",
        "    print(f\"Augmented headline {str(i)}: {' '.join(new_headline)}\")"
      ],
      "execution_count": 162,
      "outputs": [
        {
          "output_type": "stream",
          "name": "stdout",
          "text": [
            "Original headline: <bos> four injured after german man rams car into crowd ; racist motive suspected <eos>\n",
            "Augmented headline 1: <bos> four <pad> injured after german man into rams car ; racist crowd motive _num_-thousands suspected <eos>\n",
            "Augmented headline 2: <bos> <unk> four after injured german man rams into ; crowd motive suspected racist <unk> <eos>\n",
            "Augmented headline 3: <bos> <unk> four injured adm after <pad> into bear ; racist suspected motive <unk> <eos>\n",
            "Augmented headline 4: <bos> <pad> injured german man ; globally dismal <eos>\n",
            "Augmented headline 5: <bos> four <unk> after german <pad> rams man car <pad> succeed divide <pad> <unk> motive <eos>\n"
          ]
        }
      ]
    },
    {
      "cell_type": "markdown",
      "metadata": {
        "id": "rHKlJr_m4KUT"
      },
      "source": [
        "### Part (b) -- 8%\n",
        "\n",
        "The training code that we use to train the model is mostly provided for you. \n",
        "The only part we left blank are the parts from Q2(b). Complete the code,\n",
        "and train a new AutoEncoder model for 1 epoch. You can train your model\n",
        "for longer if you want, but training tend to take a long time,\n",
        "so we're only checking to see that your training loss is trending down.\n",
        "\n",
        "If you are using Google Colab, you can use a GPU for this portion.\n",
        "Go to \"Runtime\" => \"Change Runtime Type\"  and set \"Hardware acceleration\" to GPU.\n",
        "Your Colab session will restart.\n",
        "You can move your model to the GPU by typing `model.cuda()`, and move\n",
        "other tensors to GPU (e.g. `xs = xs.cuda()`). To move a model back to CPU,\n",
        "type `model.cpu`. To move a tensor back, use `xs = xs.cpu()`. For training,\n",
        "your model and inputs need to be on the *same device*."
      ]
    },
    {
      "cell_type": "code",
      "metadata": {
        "id": "9IXnUFUJ4KUT"
      },
      "source": [
        "def train_autoencoder(model, batch_size=64, learning_rate=0.001, num_epochs=10):\n",
        "    optimizer = optim.Adam(model.parameters(), lr=learning_rate)\n",
        "    criterion = nn.CrossEntropyLoss()\n",
        "\n",
        "    for ep in range(num_epochs):\n",
        "        # We will perform data augmentation by re-reading the input each time\n",
        "        field = data.Field(sequential=True,\n",
        "                                     tokenize=tokenize_and_randomize, # <-- data augmentation\n",
        "                                     include_lengths=True,\n",
        "                                     batch_first=True,\n",
        "                                     use_vocab=False, # <-- the tokenization function replaces this\n",
        "                                     pad_token=vocab.stoi['<pad>'])\n",
        "        dataset = data.TabularDataset(train_path, \"tsv\", [('title', field)])\n",
        "\n",
        "        # This BucketIterator will handle padding of sequences that are not of the same length\n",
        "        train_iter = data.BucketIterator(dataset,\n",
        "                                                   batch_size=batch_size,\n",
        "                                                   sort_key=lambda x: len(x.title), # to minimize padding\n",
        "                                                   repeat=False)\n",
        "        for it, ((xs, lengths), _) in enumerate(train_iter):\n",
        "\n",
        "            # Fill in the training code here\n",
        "\n",
        "            if (it+1) % 100 == 0:\n",
        "                print(\"[Iter %d] Loss %f\" % (it+1, float(loss)))\n",
        "\n",
        "        # Optional: Compute and track validation loss\n",
        "        #val_loss = 0\n",
        "        #val_n = 0\n",
        "        #for it, ((xs, lengths), _) in enumerate(valid_iter):\n",
        "        #    zs = model(xs)\n",
        "        #    loss = None # TODO\n",
        "        #    val_loss += float(loss)\n",
        "\n",
        "# Include your training curve or output to show that your training loss is trending down"
      ],
      "execution_count": null,
      "outputs": []
    },
    {
      "cell_type": "markdown",
      "metadata": {
        "id": "wQot60XU4KUT"
      },
      "source": [
        "### Part (c) -- 7%\n",
        "\n",
        "This model requires many epochs (>50) to train, and is quite slow without using a GPU.\n",
        "You can train a model yourself, or you can load the model weights that we have trained,\n",
        "and available on the course website (AE_RNN_model.pk).\n",
        "\n",
        "Assuming that your `AutoEncoder` is set up correctly, the following code should run without\n",
        "error."
      ]
    },
    {
      "cell_type": "code",
      "metadata": {
        "id": "vaUUhd-Q4KUU"
      },
      "source": [
        "model = AutoEncoder(10000, 128, 128)\n",
        "checkpoint_path = '/content/gdrive/My Drive/Intro_to_Deep_Learning/AE_RNN_model.pk' # Update me\n",
        "model.load_state_dict(torch.load(checkpoint_path))"
      ],
      "execution_count": null,
      "outputs": []
    },
    {
      "cell_type": "markdown",
      "metadata": {
        "id": "sG-xazc24KUU"
      },
      "source": [
        "Then, repeat your code from Q2(d), for `train_data[10].title`\n",
        "with temperature settings 0.7, 0.9, and 1.5.\n",
        "Explain why we generally don't want the temperature setting to\n",
        "be too **small**."
      ]
    },
    {
      "cell_type": "code",
      "metadata": {
        "id": "AXF5iBHX4KUU"
      },
      "source": [
        "# Include the generated sequences and explanation in your PDF report.\n",
        "\n",
        "headline = train_data[10].title\n",
        "input_seq = torch.Tensor([vocab.stoi[w] for w in headline]).unsqueeze(0).long()\n",
        "\n",
        "# ..."
      ],
      "execution_count": null,
      "outputs": []
    },
    {
      "cell_type": "markdown",
      "metadata": {
        "id": "tgjhZHJDRljU"
      },
      "source": [
        "**Write your explanation here:**\n"
      ]
    },
    {
      "cell_type": "markdown",
      "metadata": {
        "id": "mftjD-To4KUU"
      },
      "source": [
        "## Question 4. Latent space manipulations (20%)\n",
        "\n",
        "In parts 2-3, we've explored the decoder portion of the autoencoder. In this section,\n",
        "let's explore the **encoder**. In particular, the encoder RNN gives us \n",
        "embeddings of news headlines!\n",
        "\n",
        "First, let's load the **validation** data set:"
      ]
    },
    {
      "cell_type": "code",
      "metadata": {
        "id": "08HhRGfm4KUU"
      },
      "source": [
        "valid_data = data.TabularDataset(\n",
        "    path=valid_path,                # data file path\n",
        "    format=\"tsv\",                   # fields are separated by a tab\n",
        "    fields=[('title', text_field)]) # list of fields (we have only one)"
      ],
      "execution_count": null,
      "outputs": []
    },
    {
      "cell_type": "markdown",
      "metadata": {
        "id": "utBRC0tq4KUV"
      },
      "source": [
        "### Part (a) -- 4%\n",
        "\n",
        "Compute the embeddings of every item in the validation set. Then, store the\n",
        "result in a single PyTorch tensor of shape `[19046, 128]`, since there are\n",
        "19,046 headlines in the validation set."
      ]
    },
    {
      "cell_type": "code",
      "metadata": {
        "id": "9GmdVIPB4KUV"
      },
      "source": [
        "# Write your code here\n",
        "# Show that your resulting PyTorch tensor has shape `[19046, 128]`"
      ],
      "execution_count": null,
      "outputs": []
    },
    {
      "cell_type": "markdown",
      "metadata": {
        "id": "BlKbT2vW4KUV"
      },
      "source": [
        "### Part (b) -- 4%\n",
        "\n",
        "Find the 5 closest headlines to the headline `valid_data[13]`. Use the\n",
        "cosine similarity to determine closeness. (Hint: You can use code from assignment 2)"
      ]
    },
    {
      "cell_type": "code",
      "metadata": {
        "id": "7AMt2HIz4KUV"
      },
      "source": [
        "# Write your code here. Make sure to include the actual 5 closest headlines."
      ],
      "execution_count": null,
      "outputs": []
    },
    {
      "cell_type": "markdown",
      "metadata": {
        "id": "cAzZt4bU4KUW"
      },
      "source": [
        "### Part (c) -- 4%\n",
        "\n",
        "Find the 5 closest headlines to another headline of your choice."
      ]
    },
    {
      "cell_type": "code",
      "metadata": {
        "id": "BkKR09Ce4KUW"
      },
      "source": [
        "# Write your code here. \n",
        "# Make sure to include the original headline and the 5 closest headlines."
      ],
      "execution_count": null,
      "outputs": []
    },
    {
      "cell_type": "markdown",
      "metadata": {
        "id": "ftUooZD-4KUW"
      },
      "source": [
        "### Part (d) -- 8%\n",
        "\n",
        "Choose two headlines from the validation set, and find their embeddings.\n",
        "We will **interpolate** between the two embeddings like we did in the example presented in class for training autoencoders on MNIST.\n",
        "\n",
        "Find 3 points, equally spaced between the embeddings of your headlines.\n",
        "If we let $e_0$ be the embedding of your first headline and $e_4$ be\n",
        "the embedding of your second headline, your three points should be:\n",
        "\n",
        "\\begin{align*}\n",
        "e_1 &=  0.75 e_0 + 0.25 e_4 \\\\\n",
        "e_2 &=  0.50 e_0 + 0.50 e_4 \\\\\n",
        "e_3 &=  0.25 e_0 + 0.75 e_4 \\\\\n",
        "\\end{align*}\n",
        "\n",
        "Decode each of $e_1$, $e_2$ and $e_3$ five times, with a temperature setting\n",
        "that shows some variation in the generated sequences. Try to get a logical and cool sentence (this might be hard)."
      ]
    },
    {
      "cell_type": "code",
      "metadata": {
        "id": "7SYa3PNc4KUW"
      },
      "source": [
        "# Write your code here. Include your generated sequences."
      ],
      "execution_count": null,
      "outputs": []
    }
  ]
}