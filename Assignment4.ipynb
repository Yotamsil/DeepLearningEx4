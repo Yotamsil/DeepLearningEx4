{
  "nbformat": 4,
  "nbformat_minor": 0,
  "metadata": {
    "colab": {
      "name": "Assignment4.ipynb",
      "provenance": [],
      "collapsed_sections": []
    },
    "language_info": {
      "name": "python"
    },
    "kernelspec": {
      "name": "python3",
      "display_name": "Python 3"
    },
    "accelerator": "GPU"
  },
  "cells": [
    {
      "cell_type": "markdown",
      "metadata": {
        "id": "MV-Baq834KT6"
      },
      "source": [
        "# Assignment 4: Language Processing with RNN-Based Autoencoders\n",
        "\n",
        "**Deadline**: Sunday, June 15th, by 9pm.\n",
        "\n",
        "\n",
        "**Submission**: Submit a PDF export of the completed notebook as well as the ipynb file. \n",
        "\n",
        "In this assignement, we will practice the application of deep learning to natural language processing.\n",
        "We will be working with a subset of Reuters news headlines that are collected over 15 months,\n",
        "covering all of 2019, plus a few months in 2018 and in a few months of this year.\n",
        "\n",
        "In particular, we will be building an **autoencoder** of news headlines. The idea is similar\n",
        "to the kind of image autoencoder we built in lecture: we will have an **encoder** that\n",
        "maps a news headline to a vector embedding, and then a **decoder** that reconstructs\n",
        "the news headline. Both our encoder and decoder networks will be Recurrent Neural Networks,\n",
        "so that you have a chance to practice building\n",
        "\n",
        "- a neural network that takes a sequence as an input\n",
        "- a neural network that generates a sequence as an output\n",
        "\n",
        "This assignment is organized as follows:\n",
        "\n",
        "- Question 1. Exploring the data\n",
        "- Question 2. Building the autoencoder\n",
        "- Question 3. Training the autoencoder using *data augmentation*\n",
        "- Question 4. Analyzing the embeddings (interpolating between headlines)\n",
        "\n",
        "Furthermore, we'll be introducing the idea of **data augmentation** for improving of\n",
        "the robustness of the autoencoder, as proposed by Shen et al [1] in ICML 2020.\n",
        "\n",
        "[1] Shen, Tianxiao, Jonas Mueller, Regina Barzilay, and Tommi Jaakkola. \"Educating text autoencoders: Latent representation guidance via denoising.\" In International Conference on Machine Learning, pp. 8719-8729. PMLR, 2020."
      ]
    },
    {
      "cell_type": "code",
      "metadata": {
        "id": "_CobqQza4KUC"
      },
      "source": [
        "import torch\n",
        "import torch.nn as nn\n",
        "import torch.nn.functional as F\n",
        "import torch.optim as optim\n",
        "\n",
        "import matplotlib.pyplot as plt\n",
        "import numpy as np\n",
        "import random\n",
        "\n",
        "import collections"
      ],
      "execution_count": 1,
      "outputs": []
    },
    {
      "cell_type": "markdown",
      "metadata": {
        "id": "cSz5FCNh4KUD"
      },
      "source": [
        "## Question 1. Data (20 %)\n",
        "\n",
        "Download the files `reuters_train.txt` and `reuters_valid.txt`, and upload them to Google Drive.\n",
        "\n",
        "Then, mount Google Drive from your Google Colab notebook:"
      ]
    },
    {
      "cell_type": "code",
      "metadata": {
        "colab": {
          "base_uri": "https://localhost:8080/"
        },
        "id": "fnABNyg94KUE",
        "outputId": "db028fad-dc4b-4e65-d85e-7b5c78f4bb64"
      },
      "source": [
        "from google.colab import drive\n",
        "drive.mount('/content/gdrive')\n",
        "\n",
        "train_path = '/content/gdrive/My Drive/Intro_to_Deep_Learning/Assignment4/reuters_train.txt' # Update me\n",
        "valid_path = '/content/gdrive/My Drive/Intro_to_Deep_Learning/Assignment4/reuters_valid.txt' # Update me"
      ],
      "execution_count": 2,
      "outputs": [
        {
          "output_type": "stream",
          "name": "stdout",
          "text": [
            "Mounted at /content/gdrive\n"
          ]
        }
      ]
    },
    {
      "cell_type": "markdown",
      "metadata": {
        "id": "hdkp4HLW4KUE"
      },
      "source": [
        "As we did in some of our examples (e.g., training transformers on IMDB reviews) will be using PyTorch's `torchtext` utilities to help us load, process,\n",
        "and batch the data. We'll be using a `TabularDataset` to load our data, which works well on structured\n",
        "CSV data with fixed columns (e.g. a column for the sequence, a column for the label). Our tabular dataset\n",
        "is even simpler: we have no labels, just some text. So, we are treating our data as a table with one field\n",
        "representing our sequence."
      ]
    },
    {
      "cell_type": "code",
      "metadata": {
        "id": "I2PjMSho4KUF"
      },
      "source": [
        "import torchtext.legacy.data as data\n",
        "\n",
        "# Tokenization function to separate a headline into words\n",
        "def tokenize_headline(headline):\n",
        "    \"\"\"Returns the sequence of words in the string headline. We also\n",
        "    prepend the \"<bos>\" or beginning-of-string token, and append the\n",
        "    \"<eos>\" or end-of-string token to the headline.\n",
        "    \"\"\"\n",
        "    return (\"<bos> \" + headline + \" <eos>\").split()\n",
        "\n",
        "# Data field (column) representing our *text*.\n",
        "text_field = data.Field(\n",
        "    sequential=True,            # this field consists of a sequence\n",
        "    tokenize=tokenize_headline, # how to split sequences into words\n",
        "    include_lengths=True,       # to track the length of sequences, for batching\n",
        "    batch_first=True,           # similar to batch_first=True used in nn.RNN demonstrated in lecture\n",
        "    use_vocab=True)             # to turn each character into an integer index\n",
        "train_data = data.TabularDataset(\n",
        "    path=train_path,                # data file path\n",
        "    format=\"tsv\",                   # fields are separated by a tab\n",
        "    fields=[('title', text_field)]) # list of fields (we have only one)"
      ],
      "execution_count": 3,
      "outputs": []
    },
    {
      "cell_type": "markdown",
      "metadata": {
        "id": "7TNlqCRM4KUF"
      },
      "source": [
        "### Part (a) -- 5%\n",
        "\n",
        "Draw histograms of the number of words per headline in our training set.\n",
        "Excluding the `<bos>` and `<eos>` tags in your computation.\n",
        "Explain why we would be interested in such histograms."
      ]
    },
    {
      "cell_type": "code",
      "metadata": {
        "id": "mBPd0ezl4KUG",
        "colab": {
          "base_uri": "https://localhost:8080/",
          "height": 491
        },
        "outputId": "7d5700d8-791b-4039-db14-6944f867afb8"
      },
      "source": [
        "# Include your histogram and your written explanations\n",
        "num_of_words = []\n",
        "for sentence in train_data:   \n",
        "   num_of_words.append(len(sentence.title)-2)\n",
        "plt.hist(num_of_words, bins=max(num_of_words))   \n",
        "\n",
        "# Here is an example of how to plot a histogram in matplotlib:\n",
        "# plt.hist(np.random.normal(0, 1, 40), bins=20)\n",
        "\n",
        "# Here are some sample code that uses the train_data object:\n",
        "# print(train_data[5].title)\n",
        "# for example in train_data:\n",
        "#     print(example.title)\n",
        "#     break"
      ],
      "execution_count": 4,
      "outputs": [
        {
          "output_type": "execute_result",
          "data": {
            "text/plain": [
              "(array([2.3000e+01, 8.9000e+01, 2.9700e+02, 7.4000e+02, 2.1910e+03,\n",
              "        6.1630e+03, 1.2529e+04, 2.0805e+04, 2.7921e+04, 2.9969e+04,\n",
              "        2.6251e+04, 1.9511e+04, 1.2307e+04, 6.8520e+03, 0.0000e+00,\n",
              "        3.3640e+03, 1.4980e+03, 6.0000e+02, 2.2700e+02, 7.7000e+01,\n",
              "        1.4000e+01, 6.0000e+00, 3.0000e+00, 4.0000e+00, 1.0000e+00,\n",
              "        0.0000e+00, 0.0000e+00, 0.0000e+00, 1.0000e+00]),\n",
              " array([ 2.        ,  2.93103448,  3.86206897,  4.79310345,  5.72413793,\n",
              "         6.65517241,  7.5862069 ,  8.51724138,  9.44827586, 10.37931034,\n",
              "        11.31034483, 12.24137931, 13.17241379, 14.10344828, 15.03448276,\n",
              "        15.96551724, 16.89655172, 17.82758621, 18.75862069, 19.68965517,\n",
              "        20.62068966, 21.55172414, 22.48275862, 23.4137931 , 24.34482759,\n",
              "        25.27586207, 26.20689655, 27.13793103, 28.06896552, 29.        ]),\n",
              " <a list of 29 Patch objects>)"
            ]
          },
          "metadata": {},
          "execution_count": 4
        },
        {
          "output_type": "display_data",
          "data": {
            "image/png": "[encoded data removed]",
            "text/plain": [
              "<Figure size 432x288 with 1 Axes>"
            ]
          },
          "metadata": {
            "needs_background": "light"
          }
        }
      ]
    },
    {
      "cell_type": "markdown",
      "metadata": {
        "id": "CWnes5SVRwxl"
      },
      "source": [
        "**Write your explanation here:**\n",
        "\n",
        "We would be interested in this kind of histogram in order to see if the data distribution is like gaussian and justifies this assumption in Variational Autoencoders."
      ]
    },
    {
      "cell_type": "markdown",
      "metadata": {
        "id": "gm3ysTzh4KUG"
      },
      "source": [
        "### Part (b) -- 5%\n",
        "\n",
        "How many distinct words appear in the training data?\n",
        "Exclude the `<bos>` and `<eos>` tags in your computation."
      ]
    },
    {
      "cell_type": "code",
      "metadata": {
        "id": "2x5wf7h14KUG",
        "colab": {
          "base_uri": "https://localhost:8080/"
        },
        "outputId": "b37c038b-1cf5-45f2-cd68-1eedce835470"
      },
      "source": [
        "from six import print_\n",
        "# Report your values here. Make sure that you report the actual values,\n",
        "# and not just the code used to get those values\n",
        "\n",
        "# You might find the python class Counter from the collections package useful\n",
        "cnt = collections.Counter()\n",
        "for sentence in train_data:\n",
        "    if type(sentence.title) == list: \n",
        "      cnt.update([word for word in sentence.title[2:-1]]) \n",
        "print(f\"number of distinct words: {len(cnt.keys())}\")  \n",
        "\n",
        "print(cnt[\"<bos>\"])      # sanity check, needs to be zero"
      ],
      "execution_count": 5,
      "outputs": [
        {
          "output_type": "stream",
          "name": "stdout",
          "text": [
            "number of distinct words: 46289\n",
            "0\n"
          ]
        }
      ]
    },
    {
      "cell_type": "markdown",
      "metadata": {
        "id": "e5lgEwiM4KUH"
      },
      "source": [
        "### Part (c) -- 5%\n",
        "\n",
        "The distribution of *words* will have a long tail, meaning that there are some words\n",
        "that will appear very often, and many words that will appear infrequently. How many words\n",
        "appear exactly once in the training set? Exactly twice?\n",
        "Print these numbers below"
      ]
    },
    {
      "cell_type": "code",
      "metadata": {
        "id": "RpkUDVoC4KUH",
        "colab": {
          "base_uri": "https://localhost:8080/"
        },
        "outputId": "02a9301a-4267-4025-b77b-12e6b525f18a"
      },
      "source": [
        "# Report your values here. Make sure that you report the actual values,\n",
        "# and not just the code used to get those values\n",
        "\n",
        "def appearance_counter(cnt, n):  \n",
        "  number_cnt = 0\n",
        "  for value in cnt.values():\n",
        "      if value == n:\n",
        "        number_cnt += 1\n",
        "  return number_cnt  \n",
        "\n",
        "ones_cnt = appearance_counter(cnt, 1)\n",
        "twos_cnt = appearance_counter(cnt, 2)\n",
        "\n",
        "print(f\"{ones_cnt} words appear exactly once in the training set\")\n",
        "print(f\"{twos_cnt} words appear exactly twice in the training set\")"
      ],
      "execution_count": 6,
      "outputs": [
        {
          "output_type": "stream",
          "name": "stdout",
          "text": [
            "16755 words appear exactly once in the training set\n",
            "6688 words appear exactly twice in the training set\n"
          ]
        }
      ]
    },
    {
      "cell_type": "markdown",
      "metadata": {
        "id": "K3RKPwdI4KUI"
      },
      "source": [
        "### Part (d) -- 5%\n",
        "We will replace the infrequent\n",
        "words with an `<unk>` tag, instead of learning embeddings for these rare words. `torchtext` also provides us with the `<pad>` tag used for padding short sequences for batching.\n",
        "We will thus only model the top 9995 words in the training set, excluding the tags\n",
        "`<bos>`, `<eos>`, `<unk>`, and `<pad>`.\n",
        "\n",
        "What percentage of total word count(whole dataset) will be supported? Alternatively, what percentage\n",
        "of total word count(whole dataset) in the training set will be set to the `<unk>` tag?"
      ]
    },
    {
      "cell_type": "code",
      "metadata": {
        "id": "Cva5DC_64KUI",
        "colab": {
          "base_uri": "https://localhost:8080/"
        },
        "outputId": "8a4c527d-0b4c-447e-a9da-5e3e62196ec5"
      },
      "source": [
        "# Report your values here. Make sure that you report the actual values,\n",
        "# and not just the code used to get those values\n",
        "\n",
        "top_words = cnt.most_common()[1:9998]         # excluding the tags <bos>, <eos>\n",
        "counter_top = sum([word_tuple[1] for word_tuple in top_words])\n",
        "counter_total = sum(cnt.values())\n",
        "\n",
        "print(f\"{counter_top/counter_total*100}% of total word count will be supported\") \n",
        "print(f\"{(1-counter_top/counter_total)*100}% of total word count in the training set will be set to the <unk> tag\") "
      ],
      "execution_count": 7,
      "outputs": [
        {
          "output_type": "stream",
          "name": "stdout",
          "text": [
            "90.90601096187436% of total word count will be supported\n",
            "9.093989038125638% of total word count in the training set will be set to the <unk> tag\n"
          ]
        }
      ]
    },
    {
      "cell_type": "markdown",
      "metadata": {
        "id": "SBV8CTyk4KUJ"
      },
      "source": [
        "The `torchtext` package will help us keep track of our list of unique words, known\n",
        "as a **vocabulary**. A vocabulary also assigns a unique integer index to each word."
      ]
    },
    {
      "cell_type": "code",
      "metadata": {
        "colab": {
          "base_uri": "https://localhost:8080/"
        },
        "id": "GRLFF8j14KUJ",
        "outputId": "2d895a8c-cbe8-417a-ef37-beaccb9b56fc"
      },
      "source": [
        "# Build the vocabulary based on the training data. The vocabulary\n",
        "# can have at most 9997 words (9995 words + the <bos> and <eos> token)\n",
        "text_field.build_vocab(train_data, max_size=9997)\n",
        "\n",
        "# This vocabulary object will be helpful for us\n",
        "vocab = text_field.vocab\n",
        "print(vocab.stoi[\"hello\"]) # for instances, we can convert from string to (unique) index\n",
        "print(vocab.itos[10])      # ... and from word index to string\n",
        "\n",
        "# The size of our vocabulary  \n",
        "vocab_size = len(text_field.vocab.stoi) \n",
        "# Here are the two tokens that torchtext adds for us:\n",
        "print(vocab.itos[0]) # <unk> represents an unknown word not in our vocabulary\n",
        "print(vocab.itos[1]) # <pad> will be used to pad short sequences for batching   "
      ],
      "execution_count": 8,
      "outputs": [
        {
          "output_type": "stream",
          "name": "stdout",
          "text": [
            "0\n",
            "on\n",
            "<unk>\n",
            "<pad>\n"
          ]
        }
      ]
    },
    {
      "cell_type": "markdown",
      "metadata": {
        "id": "bnoMpzC14KUK"
      },
      "source": [
        "## Question 2. Text Autoencoder (40%)\n",
        "\n",
        "Building a text autoencoder is a little more complicated than an image autoencoder like we did in class. So\n",
        "we will need to thoroughly understand the model that we want to build before actually building it. Note that the best and fastest way to complete this assignment is to spend time upfront understanding the architecture. The explanations are quite dense, but it is important to understand the operation of this model. The rationale here is similar in nature to the `seq2seq` RNN model we discussed in class, only we are dealing with unsupervised learning here rather than machine translation. \n",
        "\n",
        "# Architecture description\n",
        "Here is a diagram showing our desired architecture:\n",
        "\n",
        "<img src='https://drive.google.com/uc?id=1UaXAYQvmFbBcuSBQb7ozjSliuVn7bP1Q'>\n",
        "\n",
        "There are two main components to the model: the **encoder** and the **decoder**.\n",
        "As always with neural networks, we'll first describe how to make\n",
        "**predictions** with of these components. Let's get started:\n",
        "\n",
        "The **encoder** will take a sequence of words (a headline) as *input*, and produce an\n",
        "embedding (a vector) that represents the entire headline. In the diagram above,\n",
        "the vector ${\\bf h}^{(7)}$ is the vector embedding containing information about \n",
        "the entire headline.  This portion is very similar\n",
        "to the sentiment analysis RNN that we discussed in lecture (but without the fully-connected\n",
        "layer that makes a prediction).\n",
        "\n",
        "The **decoder** will take an embedding (in the diagram, the vector ${\\bf h}^{(7)}$) as input,\n",
        "and uses a separate RNN to **generate a sequence of words**. To generate a sequence of words,\n",
        "the decoder needs to do the following:\n",
        "\n",
        "\n",
        "1.   Determine the previous word that was generated. This previous word will act as ${\\bf x}^{(t)}$\n",
        "   to our RNN, and will be used to update the hidden state ${\\bf m}^{(t)}$. Since each of our\n",
        "   sequences begin with the `<bos>` token, we'll set ${\\bf x}^{(1)}$ to be the `<bos>` token.\n",
        "2.   Compute the updates to the hidden state ${\\bf m}^{(t)}$ based on the previous hidden state\n",
        "   ${\\bf m}^{(t-1)}$ and ${\\bf x}^{(t)}$. Intuitively, this hidden state vector ${\\bf m}^{(t)}$\n",
        "   is a representation of *all the words we still need to generate*.\n",
        "3. We'll use a fully-connected layer to take a hidden state ${\\bf m}^{(t)}$, and determine\n",
        "   *what the next word should be*. This fully-connected layer solves a *classification problem*,\n",
        "   since we are trying to choose a word out of $K=$ `vocab_size` distinct words. As in a classification\n",
        "   problem, the fully-connected neural network will compute a *probability distribution* over\n",
        "   these `vocab_size` words. In the diagram, we are using ${\\bf z}^{(t)}$ to represent the logits,\n",
        "   or the pre-softmax activation values representing the probability distribution.\n",
        "4. We will need to *sample* an actual word from this probability distribution ${\\bf z}^{(t)}$.\n",
        "   We can do this in a number of ways, which we'll discuss in question 3. For now, you can \n",
        "   imagine your favourite way of picking a word given a distribution over words.\n",
        "5. This word we choose will become the next input ${\\bf x}^{(t+1)}$ to our RNN, which is used\n",
        "   to update our hidden state ${\\bf m}^{(t+1)}$, i.e., to determine what are the remaining\n",
        "   words to be generated.\n",
        "\n",
        "We can repeat this process until we see an `<eos>` token generated, or until the generated\n",
        "sequence becomes too long.\n",
        "\n",
        "# Training the architecture\n",
        "While our autoencoder produces a sequence, computing the loss by comparing the complete generated sequence to the ground truth (the encoder input) gives rise to multiple challanges. One is that the generated\n",
        "sequence might be longer or shorter than the actual sequence, meaning that there may\n",
        "be more/fewer ${\\bf z}^{(t)}$s than ground-truth words. Another more insidious issue\n",
        "is that the **gradients will become very high-variance and unstable**, because\n",
        "**early mistakes will easily throw the model off-track**. Early in training,\n",
        "our model is unlikely to produce the right answer in step $t=1$, so the gradients\n",
        "we obtain based on the other time steps will not be very useful.\n",
        "\n",
        "At this point, you might have some ideas about \"hacks\" we can use to make training\n",
        "work. Fortunately, there is one very well-established solution called\n",
        "**teacher forcing** which we can use for training:\n",
        "instead of *sampling* the next word based on ${\\bf z}^{(t)}$, we will forget sampling,\n",
        "and use the **ground truth** ${\\bf x}^{(t)}$ as the input in the next step.\n",
        "\n",
        "Here is a diagram showing how we can use **teacher forcing** to train our model:\n",
        " \n",
        "<img src='https://drive.google.com/uc?id=1NXlimWaCviDfP8DHlIzyQR1Ie7sxfPuY'>\n",
        "\n",
        "We will use the RNN generator to compute the logits\n",
        "${\\bf z}^{(1)},{\\bf z}^{(2)},  \\cdots {\\bf z}^{(T)}$. These distributions\n",
        "can be compared to the ground-truth words using the cross-entropy loss.\n",
        "The loss function for this model will be the sum of the losses across each $t \\in \\{1,\\ldots,T\\}$.\n",
        "\n",
        "We'll train the encoder and decoder model simultaneously. There are several components\n",
        "to our model that contain tunable weights:\n",
        "\n",
        "- The word embedding that maps a word to a vector representation.\n",
        "  In theory, we could use GloVe embeddings, as we did in class. In this assignment we will not do that, but learn the word embedding from data.\n",
        "  The word embedding component is represented with blue arrows in the diagram.\n",
        "- The encoder RNN (which will use GRUs) that computes the\n",
        "  embedding over the entire headline. The encoder RNN \n",
        "  is represented with black arrows in the diagram.\n",
        "- The decoder RNN (which will also use GRUs) that computes\n",
        "  hidden states, which are vectors representing what words are to be generated.\n",
        "  The decoder RNN is represented with gray arrows in the diagram.\n",
        "- The **projection MLP** (a fully-connected layer) that computes\n",
        "  a distribution over the next word to generate, given a decoder RNN hidden\n",
        "  state. The projection is represented with green arrows \n"
      ]
    },
    {
      "cell_type": "markdown",
      "metadata": {
        "id": "Dk9WDEC90ScA"
      },
      "source": [
        "\n",
        "## Part (a) -- 20%\n",
        "\n",
        "Complete the code for the AutoEncoder class below by:\n",
        "\n",
        "1. Filling in the missing numbers in the `__init__` method using\n",
        "   the parameters `vocab_size`, `emb_size`, and `hidden_size`.  \n",
        "2. Complete the `forward` method, which uses teacher forcing\n",
        "   and computes the logits ${\\bf z}^{(t)}$ of the reconstruction of\n",
        "   the sequence. \n",
        "\n",
        "You should first try to understand the `encode` and `decode` methods,\n",
        "which are written for you. The `encode` method bears much similarity to the\n",
        "RNN we wrote in class for sentiment analysis.  The `decode` method is\n",
        "a bit more challenging. You might want to scroll down to the\n",
        "`sample_sequence` function to see how this function will be called.\n",
        "\n",
        "You can (but don't have to) use the `encode` and `decode` method in\n",
        "your `forward` method. In either case, be careful of the input\n",
        "that you feed into ether `decode` or to `self.decoder_rnn`.\n",
        "Refer to the teacher-forcing diagram.\n",
        "**bold text** Notice that batch_first is set to True, understand how deal with it."
      ]
    },
    {
      "cell_type": "code",
      "metadata": {
        "id": "ey4tslhD4KUO"
      },
      "source": [
        "class AutoEncoder(nn.Module):\n",
        "    def __init__(self, vocab_size, emb_size, hidden_size):\n",
        "        \"\"\"\n",
        "        A text autoencoder. The parameters \n",
        "            - vocab_size: number of unique words/tokens in the vocabulary\n",
        "            - emb_size: size of the word embeddings $x^{(t)}$\n",
        "            - hidden_size: size of the hidden states in both the\n",
        "                           encoder RNN ($h^{(t)}$) and the\n",
        "                           decoder RNN ($m^{(t)}$)\n",
        "        \"\"\"\n",
        "        super().__init__()\n",
        "        self.embed = nn.Embedding(num_embeddings=vocab_size, # TODO\n",
        "                                  embedding_dim=emb_size)  # TODO\n",
        "        self.encoder_rnn = nn.GRU(input_size=emb_size, #TODO\n",
        "                                  hidden_size=hidden_size, #TODO\n",
        "                                  batch_first=True)\n",
        "        self.decoder_rnn = nn.GRU(input_size=emb_size, #TODO\n",
        "                                  hidden_size=hidden_size, #TODO\n",
        "                                  batch_first=True)\n",
        "        self.proj = nn.Linear(in_features=emb_size, # TODO\n",
        "                              out_features=vocab_size) # TODO\n",
        "\n",
        "    def encode(self, inp):\n",
        "        \"\"\"\n",
        "        Computes the encoder output given a sequence of words.\n",
        "        \"\"\"\n",
        "        emb = self.embed(inp)\n",
        "        out, last_hidden = self.encoder_rnn(emb)\n",
        "        return last_hidden\n",
        "\n",
        "    def decode(self, inp, hidden=None):\n",
        "        \"\"\"\n",
        "        Computes the decoder output given a sequence of words, and\n",
        "        (optionally) an initial hidden state.\n",
        "        \"\"\"\n",
        "        emb = self.embed(inp)\n",
        "        out, last_hidden = self.decoder_rnn(emb, hidden)\n",
        "        out_seq = self.proj(out)\n",
        "        return out_seq, last_hidden\n",
        "\n",
        "    def forward(self, inp):\n",
        "        \"\"\"\n",
        "        Compute both the encoder and decoder forward pass\n",
        "        given an integer input sequence inp with shape [batch_size, seq_length],\n",
        "        with inp[a,b] representing the (index in our vocabulary of) the b-th word\n",
        "        of the a-th training example.\n",
        "\n",
        "        This function should return the logits $z^{(t)}$ in a tensor of shape\n",
        "        [batch_size, seq_length - 1, vocab_size], computed using *teaching forcing*.\n",
        "\n",
        "        The (seq_length - 1) part is not a typo. If you don't understand why\n",
        "        we need to subtract 1, refer to the teacher-forcing diagram above.\n",
        "        \"\"\"\n",
        "\n",
        "        x = self.encode(inp)\n",
        "        [x, last_hidden] = self.decode(inp[:,:-1], hidden=x)\n",
        "        return x"
      ],
      "execution_count": 32,
      "outputs": []
    },
    {
      "cell_type": "markdown",
      "metadata": {
        "id": "_uwpjvIw4KUQ"
      },
      "source": [
        "### Part (b) -- 10%\n",
        "\n",
        "To check that your model is set up correctly, we'll train our autoencoder\n",
        "neural network for at least 300 iterations to memorize this sequence:"
      ]
    },
    {
      "cell_type": "code",
      "metadata": {
        "id": "sJmPNMnY4KUQ"
      },
      "source": [
        "headline = train_data[42].title\n",
        "input_seq = torch.Tensor([vocab.stoi[w] for w in headline]).long().unsqueeze(0)"
      ],
      "execution_count": 10,
      "outputs": []
    },
    {
      "cell_type": "markdown",
      "metadata": {
        "id": "Qj55uU-C4KUQ"
      },
      "source": [
        "We are looking for the way that you set up your loss function\n",
        "corresponding to the figure above.\n",
        "Be  careful of off-by-one errors here.\n",
        "\n",
        "\n",
        "Note that the Cross Entropy Loss expects a rank-2 tensor as its first\n",
        "argument (the output of the network), and a rank-1 tensor as its second argument (the true label). You will\n",
        "need to properly reshape your data to be able to compute the loss."
      ]
    },
    {
      "cell_type": "code",
      "metadata": {
        "id": "aScYWbBx4KUQ",
        "colab": {
          "base_uri": "https://localhost:8080/"
        },
        "outputId": "0ad06116-e347-435a-81bc-faac79036bf3"
      },
      "source": [
        "model = AutoEncoder(vocab_size, 128, 128)\n",
        "optimizer = optim.Adam(model.parameters(), lr=0.001)\n",
        "criterion = nn.CrossEntropyLoss()\n",
        "for it in range(300):\n",
        "    optimizer.zero_grad()\n",
        "    pred = model(input_seq)\n",
        "    # loss_list = []\n",
        "    # for word_idx in range(1,pred.shape[1]):\n",
        "    #     loss_list.append(criterion(pred[:,word_idx,:], input_seq[:,word_idx+1]))\n",
        "\n",
        "    loss = sum([criterion(pred[:,word_idx,:], input_seq[:,word_idx+1]) for word_idx in range(1,pred.shape[1])])\n",
        "    loss.backward()\n",
        "    optimizer.step()\n",
        "\n",
        "    if (it+1) % 50 == 0:\n",
        "        print(\"[Iter %d] Loss %f\" % (it+1, float(loss)))"
      ],
      "execution_count": 11,
      "outputs": [
        {
          "output_type": "stream",
          "name": "stdout",
          "text": [
            "[Iter 50] Loss 0.613167\n",
            "[Iter 100] Loss 0.177531\n",
            "[Iter 150] Loss 0.112061\n",
            "[Iter 200] Loss 0.078385\n",
            "[Iter 250] Loss 0.058398\n",
            "[Iter 300] Loss 0.045478\n"
          ]
        }
      ]
    },
    {
      "cell_type": "markdown",
      "metadata": {
        "id": "SWKYC3z34KUR"
      },
      "source": [
        "### Part (c) -- 4%\n",
        "\n",
        "Once you are satisfied with your model, encode your input using\n",
        "the RNN encoder, and sample some sequences from the decoder. The \n",
        "sampling code is provided to you, and performs the computation\n",
        "from the first diagram (without teacher forcing).\n",
        "\n",
        "Note that we are sampling from a multi-nomial distribution described\n",
        "by the logits $z^{(t)}$. For example, if our distribution is [80%, 20%]\n",
        "over a vocabulary of two words, then we will choose the first word\n",
        "with 80% probability and the second word with 20% probability.\n",
        "\n",
        "Call `sample_sequence` at least 5 times, with the default temperature\n",
        "value. Make sure to include the generated sequences in your PDF\n",
        "report."
      ]
    },
    {
      "cell_type": "code",
      "metadata": {
        "id": "6vjVvmn14KUR",
        "colab": {
          "base_uri": "https://localhost:8080/"
        },
        "outputId": "aa7c3097-c098-4bec-c3a8-5dc24d4ed73a"
      },
      "source": [
        "def sample_sequence(model, hidden, max_len=20, temperature=1):\n",
        "    \"\"\"\n",
        "    Return a sequence generated from the model's decoder\n",
        "        - model: an instance of the AutoEncoder model\n",
        "        - hidden: a hidden state (e.g. computed by the encoder)\n",
        "        - max_len: the maximum length of the generated sequence\n",
        "        - temperature: described in Part (d)\n",
        "    \"\"\"\n",
        "    # We'll store our generated sequence here\n",
        "    generated_sequence = []\n",
        "    # Set input to the <BOS> token\n",
        "    inp = torch.Tensor([text_field.vocab.stoi[\"<bos>\"]]).long()\n",
        "    for p in range(max_len):\n",
        "        # compute the output and next hidden unit\n",
        "        output, hidden = model.decode(inp.unsqueeze(0), hidden)\n",
        "        # Sample from the network as a multinomial distribution\n",
        "        output_dist = output.data.view(-1).div(temperature).exp()\n",
        "        top_i = int(torch.multinomial(output_dist, 1)[0])\n",
        "        # Add predicted word to string and use as next input\n",
        "        word = text_field.vocab.itos[top_i]\n",
        "        # Break early if we reach <eos>\n",
        "        if word == \"<eos>\":\n",
        "            break\n",
        "        generated_sequence.append(word)\n",
        "        inp = torch.Tensor([top_i]).long()\n",
        "    return generated_sequence\n",
        "\n",
        "# Your solutions go here\n",
        "for i in range(1,10):\n",
        "    output = sample_sequence(model, model.encode(input_seq), max_len=20, temperature=1)\n",
        "    print(' '.join(output))"
      ],
      "execution_count": 12,
      "outputs": [
        {
          "output_type": "stream",
          "name": "stdout",
          "text": [
            "president swears in new army chief\n",
            "president swears in new army chief\n",
            "president swears in new army chief\n",
            "president swears in new army chief\n",
            "president swears in new army chief\n",
            "president swears in new army chief\n",
            "president swears in new army chief\n",
            "called president swears in new army chief\n",
            "president swears in new army chief\n"
          ]
        }
      ]
    },
    {
      "cell_type": "markdown",
      "metadata": {
        "id": "0T7gcPnn4KUR"
      },
      "source": [
        "### Part (d) -- 6%\n",
        "\n",
        "The multi-nomial distribution can be manipulated using the `temperature`\n",
        "setting. This setting can be used to make the distribution \"flatter\" (e.g.\n",
        "more likely to generate different words) or \"peakier\" (e.g. less likely\n",
        "to generate different words).\n",
        "\n",
        "Call `sample_sequence` at least 5 times each for at least 3 different\n",
        "temperature settings (e.g. 1.5, 2, and 5). Explain why we generally\n",
        "don't want the temperature setting to be too **large**."
      ]
    },
    {
      "cell_type": "code",
      "metadata": {
        "id": "jA_S0cmE4KUR",
        "colab": {
          "base_uri": "https://localhost:8080/"
        },
        "outputId": "588db8aa-bd81-4bd1-ff8d-aad5636821ba"
      },
      "source": [
        "temperatures_list = [1.5,2,5]\n",
        "for temperature in temperatures_list:\n",
        "    print(f\"Temperature:{temperature}\")\n",
        "    for i in range(1,6):\n",
        "        output = sample_sequence(model, model.encode(input_seq), 10, temperature)\n",
        "        print(' '.join(output))"
      ],
      "execution_count": 13,
      "outputs": [
        {
          "output_type": "stream",
          "name": "stdout",
          "text": [
            "Temperature:1.5\n",
            "gov stretch gulen disqualify in stoke dad swears new georgian\n",
            "ethanol swears in new ralph venture follows bloodshed shakes in\n",
            "chamber shipments president swears in new army chief\n",
            "first-ever bread in new environment laver advertisers insulin evo application\n",
            "park president swears nso new army chief exiled sarah virtual\n",
            "Temperature:2\n",
            "rely creation _num_-in shipments spur stream forge _num_-fiat mobile _num_-hyundai\n",
            "pounds premier tea rumors defending careful firmer digest- attempts unizo\n",
            "blamed choices utrecht july presidential involved debris simmers attorneys in\n",
            "schumacher co-founder army nominated cctv huge chief admissions repeat thanks\n",
            "russian-backed doubling invitation wellcare assistance withhold in new sags bachelet\n",
            "Temperature:5\n",
            "therapeutics war flowing soothes controls berlin violence splits dam theft\n",
            "boko bang gets pact brighter gun spark island widow covered\n",
            "crossing incursion tv stuck sliding globe pharma table-uae iowa writer\n",
            "lagos died championship lgbtq ruins berlin information winning merz raised\n",
            "vie brady andy underlying shaken houses etihad slaying thrash custody\n"
          ]
        }
      ]
    },
    {
      "cell_type": "markdown",
      "source": [
        "We don't want the temperature setting to be too large because "
      ],
      "metadata": {
        "id": "OiKqKsTITFDB"
      }
    },
    {
      "cell_type": "markdown",
      "metadata": {
        "id": "ZK4ptUb54KUS"
      },
      "source": [
        "## Question 3. Data augmentation (20%)\n",
        "\n",
        "It turns out that getting good results from a text auto-encoder is very difficult,\n",
        "and that it is very easy for our model to **overfit**. We have discussed several methods\n",
        "that we can use to prevent overfitting, and we'll introduce one more today:\n",
        "**data augmentation**.\n",
        "\n",
        "The idea behind data augmentation is to artificially increase the number of training\n",
        "examples by \"adding noise\" to the image. For example, during AlexNet training,\n",
        "the authors randomly cropped $224\\times 224$\n",
        "regions of a $256 \\times 256$ pixel image to increase the amount of training data.\n",
        "The authors also flipped the image left/right.\n",
        "Machine learning practitioners can also add Gaussian noise to the image.\n",
        "\n",
        "When we use data augmentation to train an *autoencoder*, we typically to only add\n",
        "the noise to the input, and expect the reconstruction to be *noise free*.\n",
        "This makes the task of the autoencoder even more difficult. An autoencoder trained\n",
        "with noisy inputs is called a **denoising auto-encoder**. For simplicity, we will\n",
        "*not* build a denoising autoencoder today.\n",
        "\n"
      ]
    },
    {
      "cell_type": "markdown",
      "metadata": {
        "id": "yieWyWqS4KUS"
      },
      "source": [
        "### Part (a) -- 5%\n",
        "\n",
        "We will add noise to our headlines using a few different techniques:\n",
        "\n",
        "1. Shuffle the words in the headline, taking care that words don't end up too far from where they were initially\n",
        "2. Drop (remove) some words \n",
        "3. Replace some words with a blank word (a `<pad>` token)\n",
        "4. Replace some words with a random word \n",
        "\n",
        "The code for adding these types of noise is provided for you:"
      ]
    },
    {
      "cell_type": "code",
      "metadata": {
        "id": "IGb3uL5U4KUS"
      },
      "source": [
        "def tokenize_and_randomize(headline,\n",
        "                           drop_prob=0.1,  # probability of dropping a word\n",
        "                           blank_prob=0.1, # probability of \"blanking\" out a word\n",
        "                           sub_prob=0.1,   # probability of substituting a word with a random one\n",
        "                           shuffle_dist=3): # maximum distance to shuffle a word\n",
        "    \"\"\"\n",
        "    Add 'noise' to a headline by slightly shuffling the word order,\n",
        "    dropping some words, blanking out some words (replacing with the <pad> token)\n",
        "    and substituting some words with random ones.\n",
        "    \"\"\"\n",
        "    headline = [vocab.stoi[w] for w in headline.split()]\n",
        "    n = len(headline)\n",
        "    # shuffle\n",
        "    headline = [headline[i] for i in get_shuffle_index(n, shuffle_dist)]\n",
        "\n",
        "    new_headline = [vocab.stoi['<bos>']]\n",
        "    for w in headline:\n",
        "        if random.random() < drop_prob:\n",
        "            # drop the word\n",
        "            pass\n",
        "        elif random.random() < blank_prob:\n",
        "            # replace with blank word\n",
        "            new_headline.append(vocab.stoi[\"<pad>\"])\n",
        "        elif random.random() < sub_prob:\n",
        "            # substitute word with another word\n",
        "            new_headline.append(random.randint(0, vocab_size - 1))\n",
        "        else:\n",
        "            # keep the original word\n",
        "            new_headline.append(w)\n",
        "    new_headline.append(vocab.stoi['<eos>'])\n",
        "    return new_headline\n",
        "\n",
        "def get_shuffle_index(n, max_shuffle_distance):\n",
        "    \"\"\" This is a helper function used to shuffle a headline with n words,\n",
        "    where each word is moved at most max_shuffle_distance. The function does\n",
        "    the following: \n",
        "       1. start with the *unshuffled* index of each word, which\n",
        "          is just the values [0, 1, 2, ..., n]\n",
        "       2. perturb these \"index\" values by a random floating-point value between\n",
        "          [0, max_shuffle_distance]\n",
        "       3. use the sorted position of these values as our new index\n",
        "    \"\"\"\n",
        "    index = np.arange(n)\n",
        "    perturbed_index = index + np.random.rand(n) * 3\n",
        "    new_index = sorted(enumerate(perturbed_index), key=lambda x: x[1])\n",
        "    return [index for (index, pert) in new_index]"
      ],
      "execution_count": 14,
      "outputs": []
    },
    {
      "cell_type": "markdown",
      "metadata": {
        "id": "h8t6eZgy4KUT"
      },
      "source": [
        "Call the function `tokenize_and_randomize` 5 times on a headline of your\n",
        "choice. Make sure to include both your original headline, and the five new\n",
        "headlines in your report."
      ]
    },
    {
      "cell_type": "code",
      "metadata": {
        "id": "CktsYMIE4KUT",
        "colab": {
          "base_uri": "https://localhost:8080/"
        },
        "outputId": "522e6a23-0bdc-488d-c14a-269345de65ca"
      },
      "source": [
        "# Report your values here. Make sure that you report the actual values,\n",
        "# and not just the code used to get those values\n",
        "headline = ' '.join(train_data[74].title)\n",
        "print(f\"Original headline: {headline}\")\n",
        "for i in range(1,6):\n",
        "    new_headline = tokenize_and_randomize(headline[1:-1],drop_prob=i*0.05,blank_prob=i*0.05,sub_prob=i*0.05,shuffle_dist=i//2)\n",
        "    new_headline = [vocab.itos[w] for w in new_headline]\n",
        "\n",
        "    print(f\"Augmented headline {str(i)}: {' '.join(new_headline)}\")"
      ],
      "execution_count": 15,
      "outputs": [
        {
          "output_type": "stream",
          "name": "stdout",
          "text": [
            "Original headline: <bos> four injured after german man rams car into crowd ; racist motive suspected <eos>\n",
            "Augmented headline 1: <bos> <unk> four injured after man rams german car crowd into ; racist suspected motive <unk> <eos>\n",
            "Augmented headline 2: <bos> <unk> four after injured german man heinz into <pad> crowd relax motive suspected <unk> <eos>\n",
            "Augmented headline 3: <bos> four <pad> <pad> after into upside crowd racist motive andreescu <eos>\n",
            "Augmented headline 4: <bos> <pad> injured four german man into <pad> racist travelers motive suspected <unk> <eos>\n",
            "Augmented headline 5: <bos> <unk> injured organisers german man into effects arrest <eos>\n"
          ]
        }
      ]
    },
    {
      "cell_type": "markdown",
      "metadata": {
        "id": "rHKlJr_m4KUT"
      },
      "source": [
        "### Part (b) -- 8%\n",
        "\n",
        "The training code that we use to train the model is mostly provided for you. \n",
        "The only part we left blank are the parts from Q2(b). Complete the code,\n",
        "and train a new AutoEncoder model for 1 epoch. You can train your model\n",
        "for longer if you want, but training tend to take a long time,\n",
        "so we're only checking to see that your training loss is trending down.\n",
        "\n",
        "If you are using Google Colab, you can use a GPU for this portion.\n",
        "Go to \"Runtime\" => \"Change Runtime Type\"  and set \"Hardware acceleration\" to GPU.\n",
        "Your Colab session will restart.\n",
        "You can move your model to the GPU by typing `model.cuda()`, and move\n",
        "other tensors to GPU (e.g. `xs = xs.cuda()`). To move a model back to CPU,\n",
        "type `model.cpu`. To move a tensor back, use `xs = xs.cpu()`. For training,\n",
        "your model and inputs need to be on the *same device*."
      ]
    },
    {
      "cell_type": "code",
      "metadata": {
        "id": "9IXnUFUJ4KUT",
        "colab": {
          "base_uri": "https://localhost:8080/",
          "height": 434
        },
        "outputId": "b4a1c559-54fc-49d8-b07a-a3a7cdbf7044"
      },
      "source": [
        "def train_autoencoder(model, batch_size=64, learning_rate=0.001, num_epochs=10):\n",
        "    model = model.cuda()\n",
        "    optimizer = optim.Adam(model.parameters(), lr=learning_rate)\n",
        "    criterion = nn.CrossEntropyLoss()\n",
        "    train_loss = []\n",
        "    valid_loss = []\n",
        "    train_iters = []\n",
        "    valid_iters = []\n",
        "    train_n = 0\n",
        "    valid_n = 0\n",
        "    for ep in range(num_epochs):\n",
        "        # We will perform data augmentation by re-reading the input each time\n",
        "        field = data.Field(sequential=True,\n",
        "                                     tokenize=tokenize_and_randomize, # <-- data augmentation\n",
        "                                     include_lengths=True,\n",
        "                                     batch_first=True,\n",
        "                                     use_vocab=False, # <-- the tokenization function replaces this\n",
        "                                     pad_token=vocab.stoi['<pad>'])\n",
        "        dataset = data.TabularDataset(train_path, \"tsv\", [('title', field)])\n",
        "        # dataset_valid = data.TabularDataset(valid_path, \"tsv\", [('title', field)])\n",
        "        # This BucketIterator will handle padding of sequences that are not of the same length\n",
        "        train_iter = data.BucketIterator(dataset, batch_size=batch_size,\n",
        "                                                   sort_key=lambda x: len(x.title), # to minimize padding\n",
        "                                                   repeat=False)\n",
        "        # valid_iter = data.BucketIterator(dataset_valid, batch_size=batch_size,\n",
        "        #                                            sort_key=lambda x: len(x.title), # to minimize padding\n",
        "        #                                            repeat=False)              \n",
        "\n",
        "        for it, ((xs, lengths), _) in enumerate(train_iter):\n",
        "            xs = xs.cuda()\n",
        "            train_n += 1\n",
        "            train_iters.append(train_n)\n",
        "            optimizer.zero_grad()\n",
        "            zs = model(xs)\n",
        "            loss = sum([criterion(zs[:,word_idx,:], xs[:,word_idx+1]) for word_idx in range(0,zs.shape[1])])\n",
        "            train_loss.append(loss)\n",
        "            loss.backward()\n",
        "            optimizer.step()\n",
        "\n",
        "            if (it+1) % 100 == 0:\n",
        "                print(\"[Iter %d] Loss %f\" % (it+1, float(loss)))\n",
        "\n",
        "        # # Optional: Compute and track validation loss\n",
        "        # val_loss = 0\n",
        "        # val_n = 0\n",
        "        # for it, ((xs, lengths), _) in enumerate(valid_iter):\n",
        "        #    xs = xs.cuda()\n",
        "        #    valid_n += 1\n",
        "        #    valid_iters.append(valid_n)\n",
        "        #    zs = model(xs)\n",
        "        #    loss = sum([criterion(zs[:,word_idx,:], xs[:,word_idx+1]) for word_idx in range(1,zs.shape[1])])  # TODO\n",
        "        #    valid_loss.append(loss)\n",
        "\n",
        "        #    val_loss += float(loss)\n",
        "\n",
        "    return train_loss, valid_loss, train_iters, valid_iters\n",
        "\n",
        "# Include your training curve or output to show that your training loss is trending down\n",
        "def plot_learning_curve(train_loss, valid_loss, train_iters, valid_iters):\n",
        "    \"\"\"\n",
        "    Plot the learning curve.\n",
        "    \"\"\"\n",
        "    plt.title(\"Learning Curve: Loss per Iteration\")\n",
        "    plt.plot(train_iters, train_loss, label=\"Train\")\n",
        "    plt.xlabel(\"Iterations\")\n",
        "    plt.ylabel(\"Loss\")\n",
        "    plt.show()\n",
        "\n",
        "    # plt.title(\"Learning Curve: Loss per Iteration\")\n",
        "    # plt.plot(valid_iters, valid_loss, label=\"Validation\")\n",
        "    # plt.xlabel(\"Iterations\")\n",
        "    # plt.ylabel(\"Loss\")\n",
        "    # plt.show()\n",
        "\n",
        "torch.cuda.empty_cache()\n",
        "model = AutoEncoder(vocab_size, 128, 128)\n",
        "\n",
        "[train_loss, valid_loss, train_iters, valid_iters] = train_autoencoder(model, batch_size=200, learning_rate=0.0001, num_epochs=1)\n",
        "\n",
        "plot_learning_curve(train_loss, valid_loss, train_iters, valid_iters)    "
      ],
      "execution_count": 33,
      "outputs": [
        {
          "output_type": "stream",
          "name": "stdout",
          "text": [
            "[Iter 100] Loss 118.949730\n",
            "[Iter 200] Loss 87.976288\n",
            "[Iter 300] Loss 83.553726\n",
            "[Iter 400] Loss 83.573128\n",
            "[Iter 500] Loss 83.007477\n",
            "[Iter 600] Loss 83.980476\n",
            "[Iter 700] Loss 83.705231\n",
            "[Iter 800] Loss 86.454666\n"
          ]
        },
        {
          "output_type": "display_data",
          "data": {
            "image/png": "[encoded data removed]",
            "text/plain": [
              "<Figure size 432x288 with 1 Axes>"
            ]
          },
          "metadata": {
            "needs_background": "light"
          }
        }
      ]
    },
    {
      "cell_type": "markdown",
      "metadata": {
        "id": "wQot60XU4KUT"
      },
      "source": [
        "### Part (c) -- 7%\n",
        "\n",
        "This model requires many epochs (>50) to train, and is quite slow without using a GPU.\n",
        "You can train a model yourself, or you can load the model weights that we have trained,\n",
        "and available on the course website (AE_RNN_model.pk).\n",
        "\n",
        "Assuming that your `AutoEncoder` is set up correctly, the following code should run without\n",
        "error."
      ]
    },
    {
      "cell_type": "code",
      "metadata": {
        "id": "vaUUhd-Q4KUU",
        "colab": {
          "base_uri": "https://localhost:8080/"
        },
        "outputId": "29c31516-6390-4415-b4c1-cc84fb814e90"
      },
      "source": [
        "model = AutoEncoder(10000, 128, 128)\n",
        "checkpoint_path = '/content/gdrive/My Drive/Intro_to_Deep_Learning/Assignment4/AE_RNN_model.pk' # Update me\n",
        "model.load_state_dict(torch.load(checkpoint_path))"
      ],
      "execution_count": 34,
      "outputs": [
        {
          "output_type": "execute_result",
          "data": {
            "text/plain": [
              "<All keys matched successfully>"
            ]
          },
          "metadata": {},
          "execution_count": 34
        }
      ]
    },
    {
      "cell_type": "markdown",
      "metadata": {
        "id": "sG-xazc24KUU"
      },
      "source": [
        "Then, repeat your code from Q2(d), for `train_data[10].title`\n",
        "with temperature settings 0.7, 0.9, and 1.5.\n",
        "Explain why we generally don't want the temperature setting to\n",
        "be too **small**."
      ]
    },
    {
      "cell_type": "code",
      "metadata": {
        "id": "AXF5iBHX4KUU",
        "colab": {
          "base_uri": "https://localhost:8080/"
        },
        "outputId": "81ba11fe-bf5f-4b6a-b634-c562615f4b0b"
      },
      "source": [
        "# Include the generated sequences and explanation in your PDF report.\n",
        "\n",
        "headline = train_data[10].title\n",
        "input_seq = torch.Tensor([vocab.stoi[w] for w in headline]).unsqueeze(0).long()\n",
        "\n",
        "temperatures_list = [0.7,0.9,1.5]\n",
        "for temperature in temperatures_list:\n",
        "    print(f\"Temperature:{temperature}\")\n",
        "    for i in range(1,6):\n",
        "        output = sample_sequence(model, model.encode(input_seq), 20, temperature)\n",
        "        print(' '.join(output))"
      ],
      "execution_count": 30,
      "outputs": [
        {
          "output_type": "stream",
          "name": "stdout",
          "text": [
            "Temperature:0.7\n",
            "wall street rises , limps die win at of sciences election four holiday\n",
            "wall street rises , limps across the finish line of a turbulent year\n",
            "wall street rises , limps die win at $ <pad> highway a bets\n",
            "wall street rises , limps die win at of sciences election four\n",
            "wall street rises , limps die win at of sciences election four\n",
            "Temperature:0.9\n",
            "wall street rises , limps australia young , plan protest <pad> management on\n",
            "wall street rises , limps die win at of <pad> nightmare , dubai\n",
            "wall street rises , limps die win at of sciences : gains prison\n",
            "wall street rises , hut out conservatives protesters to noise after drags year\n",
            "wall street rises , limps australia blame to doubles over press be consumers\n",
            "Temperature:1.5\n",
            "wall street guidance saudi paris borrowers could honors back <pad> after hour chill\n",
            "wall street rises , scales _num_-uber australia against , colombia plans despite electric\n",
            "wall street rises , samoa next sparkle join hong from bank special fire\n",
            "wall street rises , limps heist held wane <unk> to gains separatist after\n",
            "wall street rises , hut monitors charge sets in congo <pad> ruins growth\n"
          ]
        }
      ]
    },
    {
      "cell_type": "markdown",
      "metadata": {
        "id": "tgjhZHJDRljU"
      },
      "source": [
        "**Write your explanation here:**\n",
        "\n",
        "We don't want the temperature setting to be too small because\n"
      ]
    },
    {
      "cell_type": "markdown",
      "metadata": {
        "id": "mftjD-To4KUU"
      },
      "source": [
        "## Question 4. Latent space manipulations (20%)\n",
        "\n",
        "In parts 2-3, we've explored the decoder portion of the autoencoder. In this section,\n",
        "let's explore the **encoder**. In particular, the encoder RNN gives us \n",
        "embeddings of news headlines!\n",
        "\n",
        "First, let's load the **validation** data set:"
      ]
    },
    {
      "cell_type": "code",
      "metadata": {
        "id": "08HhRGfm4KUU"
      },
      "source": [
        "valid_data = data.TabularDataset(\n",
        "    path=valid_path,                # data file path\n",
        "    format=\"tsv\",                   # fields are separated by a tab\n",
        "    fields=[('title', text_field)]) # list of fields (we have only one)"
      ],
      "execution_count": 19,
      "outputs": []
    },
    {
      "cell_type": "markdown",
      "metadata": {
        "id": "utBRC0tq4KUV"
      },
      "source": [
        "### Part (a) -- 4%\n",
        "\n",
        "Compute the embeddings of every item in the validation set. Then, store the\n",
        "result in a single PyTorch tensor of shape `[19046, 128]`, since there are\n",
        "19,046 headlines in the validation set."
      ]
    },
    {
      "cell_type": "code",
      "metadata": {
        "id": "9GmdVIPB4KUV",
        "colab": {
          "base_uri": "https://localhost:8080/"
        },
        "outputId": "832ddf9f-d6a0-4d80-eec7-ed8a7989a444"
      },
      "source": [
        "valid_embedded = torch.zeros(19046, 128)    # a PyTorch tensor of shape [19046, 128]\n",
        "for i in range(0,len(valid_data)):\n",
        "    \n",
        "    headline = valid_data[i].title\n",
        "    input_seq = torch.Tensor([vocab.stoi[w] for w in headline]).long().unsqueeze(0)\n",
        "    valid_embedded[i,:] = model.encode(input_seq)\n",
        "\n",
        "print(valid_embedded.shape)"
      ],
      "execution_count": 20,
      "outputs": [
        {
          "output_type": "stream",
          "name": "stdout",
          "text": [
            "torch.Size([19046, 128])\n"
          ]
        }
      ]
    },
    {
      "cell_type": "markdown",
      "metadata": {
        "id": "BlKbT2vW4KUV"
      },
      "source": [
        "### Part (b) -- 4%\n",
        "\n",
        "Find the 5 closest headlines to the headline `valid_data[13]`. Use the\n",
        "cosine similarity to determine closeness. (Hint: You can use code from assignment 2)"
      ]
    },
    {
      "cell_type": "code",
      "metadata": {
        "id": "7AMt2HIz4KUV",
        "outputId": "9ca6d3f7-0930-4562-ce84-d9899d128613",
        "colab": {
          "base_uri": "https://localhost:8080/"
        }
      },
      "source": [
        "# Write your code here. Make sure to include the actual 5 closest headlines.\n",
        "model.cpu\n",
        "# headline_emb_weights = list(model.embed.parameters())[0]\n",
        "# headline_emb = headline_emb_weights.detach().numpy().T\n",
        "\n",
        "# norms = np.linalg.norm(headline_emb, axis=0)\n",
        "# headline_emb_norm = (headline_emb / norms).T\n",
        "# similarities = np.matmul(headline_emb_norm, headline_emb_norm.T)\n",
        "\n",
        "def find_closest_headlines(valid_embedded,input_seq,headline,headline_idx):\n",
        "    headline_emb = model.encode(input_seq)\n",
        "    closest_headlines = {}\n",
        "    headline_emb_norm = headline_emb.detach().numpy() / np.linalg.norm(headline_emb.detach().numpy())\n",
        "    for hl in range(0,np.size(valid_embedded,0)):\n",
        "        if (hl == headline_idx): # don't add the headline we are checking to the dictionary\n",
        "          continue\n",
        "\n",
        "        dist = 1-abs(np.matmul(headline_emb_norm,valid_embedded[hl].detach().numpy()) / np.linalg.norm(valid_embedded[hl].detach().numpy()))\n",
        "        \n",
        "        if len(closest_headlines.keys()) < 5:\n",
        "            closest_headlines[hl] = dist\n",
        "        else:\n",
        "            hl_maxdist = max(closest_headlines, key=closest_headlines.get)\n",
        "            if closest_headlines[hl_maxdist] > dist:\n",
        "              closest_headlines.pop(hl_maxdist)\n",
        "              closest_headlines[hl] = dist\n",
        "\n",
        "    print('The five closest headlines to \"{}\":'.format(' '.join(headline[1:-1])))\n",
        "    for hl in closest_headlines.keys():\n",
        "        print(' '.join(valid_data[hl].title[1:-1]))\n",
        "\n",
        "headline = valid_data[13].title\n",
        "input_seq = torch.Tensor([vocab.stoi[w] for w in headline]).long().unsqueeze(0)\n",
        "find_closest_headlines(valid_embedded, input_seq, headline, 13)   "
      ],
      "execution_count": 59,
      "outputs": [
        {
          "output_type": "stream",
          "name": "stdout",
          "text": [
            "The five closest headlines to \"asia takes heart from new year gains in u.s. stock futures\":\n",
            "update _num_-italy 's prime minister says new government will bicker less\n",
            "portugal 's moura pays tribute to cod fishermen at milan fashion close\n",
            "saudi , russia look to seal deeper output cuts with oil producers\n",
            "italy 's salvini loses aura of invincibility in emilia setback\n",
            "eu orders quarantine for staff who traveled to northern italy\n"
          ]
        }
      ]
    },
    {
      "cell_type": "markdown",
      "metadata": {
        "id": "cAzZt4bU4KUW"
      },
      "source": [
        "### Part (c) -- 4%\n",
        "\n",
        "Find the 5 closest headlines to another headline of your choice."
      ]
    },
    {
      "cell_type": "code",
      "metadata": {
        "id": "BkKR09Ce4KUW",
        "outputId": "e6a29295-015e-47fe-e233-cc3e0fbc559c",
        "colab": {
          "base_uri": "https://localhost:8080/"
        }
      },
      "source": [
        "# Write your code here. \n",
        "# Make sure to include the original headline and the 5 closest headlines.\n",
        "headline_idx = 100\n",
        "headline = valid_data[headline_idx].title\n",
        "input_seq = torch.Tensor([vocab.stoi[w] for w in headline]).long().unsqueeze(0)\n",
        "find_closest_headlines(valid_embedded,input_seq,headline,headline_idx) "
      ],
      "execution_count": 60,
      "outputs": [
        {
          "output_type": "stream",
          "name": "stdout",
          "text": [
            "The five closest headlines to \"amid u.s. withdrawal plans , u.s.-backed forces still fighting in syria\":\n",
            "u.s. acts to keep citgo operations going in face of venezuela sanctions\n",
            "u.s. treasury 's mnuchin refuses to release trump 's tax returns to congress\n",
            "iran missiles target u.s. forces in iraq ; trump says all well\n",
            "u.s. awaits china 's approval to send in experts as part of who team\n",
            "u.s. imposes new rules on state-owned chinese media over propaganda concerns\n"
          ]
        }
      ]
    },
    {
      "cell_type": "markdown",
      "metadata": {
        "id": "ftUooZD-4KUW"
      },
      "source": [
        "### Part (d) -- 8%\n",
        "\n",
        "Choose two headlines from the validation set, and find their embeddings.\n",
        "We will **interpolate** between the two embeddings like we did in the example presented in class for training autoencoders on MNIST.\n",
        "\n",
        "Find 3 points, equally spaced between the embeddings of your headlines.\n",
        "If we let $e_0$ be the embedding of your first headline and $e_4$ be\n",
        "the embedding of your second headline, your three points should be:\n",
        "\n",
        "\\begin{align*}\n",
        "e_1 &=  0.75 e_0 + 0.25 e_4 \\\\\n",
        "e_2 &=  0.50 e_0 + 0.50 e_4 \\\\\n",
        "e_3 &=  0.25 e_0 + 0.75 e_4 \\\\\n",
        "\\end{align*}\n",
        "\n",
        "Decode each of $e_1$, $e_2$ and $e_3$ five times, with a temperature setting\n",
        "that shows some variation in the generated sequences. Try to get a logical and cool sentence (this might be hard)."
      ]
    },
    {
      "cell_type": "code",
      "metadata": {
        "id": "7SYa3PNc4KUW",
        "colab": {
          "base_uri": "https://localhost:8080/"
        },
        "outputId": "38fd52f7-3f74-4404-94db-522da31f60b4"
      },
      "source": [
        "def embed_headline(idx):\n",
        "  headline = valid_data[idx].title\n",
        "  input_seq = torch.Tensor([vocab.stoi[w] for w in headline]).long().unsqueeze(0)\n",
        "  return model.encode(input_seq)\n",
        "\n",
        "hl_idx1 = 60\n",
        "hl_idx2 = 261\n",
        "\n",
        "e_0 = embed_headline(hl_idx1)\n",
        "e_4 = embed_headline(hl_idx2)\n",
        "\n",
        "e_1 = 0.75 * e_0 + 0.25 * e_4\n",
        "e_2 = 0.50 * e_0 + 0.50 * e_4\n",
        "e_3 = 0.25 * e_0 + 0.75 * e_4\n",
        "e_list = [e_1, e_2, e_3]\n",
        "\n",
        "print(f\"First headline:  {' '.join(valid_data[hl_idx1].title[1:-1])}\")\n",
        "print(f\"Second headline: {' '.join(valid_data[hl_idx2].title[1:-1])}\")\n",
        "for e_idx in range(0,len(e_list)):\n",
        "  e = e_list[e_idx]\n",
        "  print(f\"\\n------- Interpolation Number {e_idx+1} -------\\n\")\n",
        "  for i in range(1,6):\n",
        "    output = sample_sequence(model, e, max_len=20, temperature=1)\n",
        "    print(' '.join(output))"
      ],
      "execution_count": 93,
      "outputs": [
        {
          "output_type": "stream",
          "name": "stdout",
          "text": [
            "First headline:  mideast stocks-most gulf markets recover on financials , qatar leads\n",
            "Second headline: president trump will not answer any more questions from mueller - giuliani\n",
            "\n",
            "------- Interpolation Number 1 -------\n",
            "\n",
            "mideast markets-stocks amid energy whatever , hodeidah end for mercosur\n",
            "mideast wall sham inflation on markets discussion migrant restructuring markets\n",
            "mideast wall giro france kong remains on dismal two counterpart\n",
            "mideast and hopes confrontation on mexico regulation results over ntv\n",
            "mideast stocks-most over a efforts colts off over : _num_-equinor\n",
            "\n",
            "------- Interpolation Number 2 -------\n",
            "\n",
            "president porsche any , decision into more on late trade german\n",
            "trump mideast merger police track peace blocking high , standoff slam\n",
            "president stocks-most too sanctions <unk> vital threatened : montreal inflation\n",
            "ecb friends u.s. free thursday end labor blues , accord set\n",
            "trump blacklist up <unk> deny pipelines question investors : protection stocks-tsx\n",
            "\n",
            "------- Interpolation Number 3 -------\n",
            "\n",
            "president trump doing france jury recover pact from group hunt divided\n",
            "president trump doing the cuts simmers into to people political beer\n",
            "president trump plan mode to student tax deal late as rigs\n",
            "president hopes oct. her opposition cuts pimco deal in blowout tell\n",
            "trump town harder cuts says terrorists defense positive to chaotic polls\n"
          ]
        }
      ]
    }
  ]
}